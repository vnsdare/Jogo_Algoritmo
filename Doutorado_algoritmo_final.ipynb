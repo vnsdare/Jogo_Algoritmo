{
  "cells": [
    {
      "cell_type": "markdown",
      "metadata": {
        "id": "view-in-github",
        "colab_type": "text"
      },
      "source": [
        "<a href=\"https://colab.research.google.com/github/vnsdare/Jogo_Algoritmo/blob/main/Doutorado_algoritmo_final.ipynb\" target=\"_parent\"><img src=\"https://colab.research.google.com/assets/colab-badge.svg\" alt=\"Open In Colab\"/></a>"
      ]
    },
    {
      "cell_type": "markdown",
      "source": [
        "------\n",
        "#<font size=6 color=grey> Algoritmo 1: U-Net enxuta\n",
        "--------------------------------------"
      ],
      "metadata": {
        "id": "xMVL6TnfV3YH"
      }
    },
    {
      "cell_type": "code",
      "execution_count": null,
      "metadata": {
        "colab": {
          "base_uri": "https://localhost:8080/",
          "height": 1000,
          "referenced_widgets": [
            "b406cdef304c4011beca374b49aa07d5",
            "1023095550b64ac3a87640a3a2126223",
            "372d4d525b76403586db5046930f40ac",
            "168a62c3350446f5968868f056aa0f65",
            "b40420555d3f4cbf950bd2158cff27d7",
            "09f1f6ed3a1e4754b15d40b3e6fbf580",
            "c49c2547e1b04ab2996d4d02077c569c",
            "3cf31727c12f40b9a117d25a825f2937",
            "c6e77f1f0302403e93151923b5165ef3",
            "2869b072ba2049f88b75b234eb0f8777",
            "b6f7ef950fd64061afb37f6b4e610c0a"
          ]
        },
        "id": "nlpq_mSRRilv",
        "outputId": "06495b4e-5c8d-4579-e16a-7d0fac6ca4e8"
      },
      "outputs": [
        {
          "output_type": "stream",
          "name": "stdout",
          "text": [
            "Drive already mounted at /content/drive; to attempt to forcibly remount, call drive.mount(\"/content/drive\", force_remount=True).\n",
            "Libraries installed and Drive mounted successfully.\n",
            "Configuration updated to save RAM.\n",
            "Data helper functions defined.\n",
            "U-Net and 3D Augmentation functions defined.\n",
            "Loss, metrics, and robust data generator are ready.\n",
            "Loading file paths...\n",
            "Data prepared: 200 training, 50 validation cases.\n",
            "\n",
            "--- Training Model 1/3 ---\n"
          ]
        },
        {
          "output_type": "stream",
          "name": "stderr",
          "text": [
            "/usr/local/lib/python3.11/dist-packages/keras/src/trainers/data_adapters/py_dataset_adapter.py:121: UserWarning: Your `PyDataset` class should call `super().__init__(**kwargs)` in its constructor. `**kwargs` can include `workers`, `use_multiprocessing`, `max_queue_size`. Do not pass these arguments to `fit()`, as they will be ignored.\n",
            "  self._warn_if_super_not_called()\n"
          ]
        },
        {
          "output_type": "stream",
          "name": "stdout",
          "text": [
            "Epoch 1/3\n"
          ]
        },
        {
          "output_type": "stream",
          "name": "stderr",
          "text": [
            "/usr/local/lib/python3.11/dist-packages/keras/src/models/functional.py:237: UserWarning: The structure of `inputs` doesn't match the expected structure.\n",
            "Expected: ['keras_tensor_18']\n",
            "Received: inputs=Tensor(shape=(None, 96, 96, 96, 3))\n",
            "  warnings.warn(msg)\n"
          ]
        },
        {
          "output_type": "stream",
          "name": "stdout",
          "text": [
            "\u001b[1m200/200\u001b[0m \u001b[32m━━━━━━━━━━━━━━━━━━━━\u001b[0m\u001b[37m\u001b[0m \u001b[1m0s\u001b[0m 7s/step - dice_coefficient: 0.0449 - loss: 1.1801"
          ]
        },
        {
          "output_type": "stream",
          "name": "stderr",
          "text": [
            "/usr/local/lib/python3.11/dist-packages/keras/src/trainers/data_adapters/py_dataset_adapter.py:121: UserWarning: Your `PyDataset` class should call `super().__init__(**kwargs)` in its constructor. `**kwargs` can include `workers`, `use_multiprocessing`, `max_queue_size`. Do not pass these arguments to `fit()`, as they will be ignored.\n",
            "  self._warn_if_super_not_called()\n",
            "/usr/local/lib/python3.11/dist-packages/keras/src/models/functional.py:237: UserWarning: The structure of `inputs` doesn't match the expected structure.\n",
            "Expected: ['keras_tensor_18']\n",
            "Received: inputs=Tensor(shape=(None, 96, 96, 96, 3))\n",
            "  warnings.warn(msg)\n",
            "WARNING:absl:You are saving your model as an HDF5 file via `model.save()` or `keras.saving.save_model(model)`. This file format is considered legacy. We recommend using instead the native Keras format, e.g. `model.save('my_model.keras')` or `keras.saving.save_model(model, 'my_model.keras')`. \n"
          ]
        },
        {
          "output_type": "stream",
          "name": "stdout",
          "text": [
            "\b\b\b\b\b\b\b\b\b\b\b\b\b\b\b\b\b\b\b\b\b\b\b\b\b\b\b\b\b\b\b\b\b\b\b\b\b\b\b\b\b\b\b\b\b\b\b\b\b\b\b\b\b\b\b\b\b\b\b\b\b\b\b\b\b\b\b\b\b\b\b\b\b\b\b\b\b\b\b\b\b\r\u001b[1m200/200\u001b[0m \u001b[32m━━━━━━━━━━━━━━━━━━━━\u001b[0m\u001b[37m\u001b[0m \u001b[1m1732s\u001b[0m 9s/step - dice_coefficient: 0.0451 - loss: 1.1795 - val_dice_coefficient: 0.1842 - val_loss: 0.9223\n",
            "Epoch 2/3\n",
            "\u001b[1m200/200\u001b[0m \u001b[32m━━━━━━━━━━━━━━━━━━━━\u001b[0m\u001b[37m\u001b[0m \u001b[1m0s\u001b[0m 5s/step - dice_coefficient: 0.2637 - loss: 0.8538"
          ]
        },
        {
          "output_type": "stream",
          "name": "stderr",
          "text": [
            "WARNING:absl:You are saving your model as an HDF5 file via `model.save()` or `keras.saving.save_model(model)`. This file format is considered legacy. We recommend using instead the native Keras format, e.g. `model.save('my_model.keras')` or `keras.saving.save_model(model, 'my_model.keras')`. \n"
          ]
        },
        {
          "output_type": "stream",
          "name": "stdout",
          "text": [
            "\b\b\b\b\b\b\b\b\b\b\b\b\b\b\b\b\b\b\b\b\b\b\b\b\b\b\b\b\b\b\b\b\b\b\b\b\b\b\b\b\b\b\b\b\b\b\b\b\b\b\b\b\b\b\b\b\b\b\b\b\b\b\b\b\b\b\b\b\b\b\b\b\b\b\b\b\b\b\b\b\b\r\u001b[1m200/200\u001b[0m \u001b[32m━━━━━━━━━━━━━━━━━━━━\u001b[0m\u001b[37m\u001b[0m \u001b[1m1221s\u001b[0m 6s/step - dice_coefficient: 0.2640 - loss: 0.8535 - val_dice_coefficient: 0.2685 - val_loss: 0.8406\n",
            "Epoch 3/3\n",
            "\u001b[1m200/200\u001b[0m \u001b[32m━━━━━━━━━━━━━━━━━━━━\u001b[0m\u001b[37m\u001b[0m \u001b[1m0s\u001b[0m 5s/step - dice_coefficient: 0.3913 - loss: 0.7135"
          ]
        },
        {
          "output_type": "stream",
          "name": "stderr",
          "text": [
            "WARNING:absl:You are saving your model as an HDF5 file via `model.save()` or `keras.saving.save_model(model)`. This file format is considered legacy. We recommend using instead the native Keras format, e.g. `model.save('my_model.keras')` or `keras.saving.save_model(model, 'my_model.keras')`. \n"
          ]
        },
        {
          "output_type": "stream",
          "name": "stdout",
          "text": [
            "\b\b\b\b\b\b\b\b\b\b\b\b\b\b\b\b\b\b\b\b\b\b\b\b\b\b\b\b\b\b\b\b\b\b\b\b\b\b\b\b\b\b\b\b\b\b\b\b\b\b\b\b\b\b\b\b\b\b\b\b\b\b\b\b\b\b\b\b\b\b\b\b\b\b\b\b\b\b\b\b\b\r\u001b[1m200/200\u001b[0m \u001b[32m━━━━━━━━━━━━━━━━━━━━\u001b[0m\u001b[37m\u001b[0m \u001b[1m1205s\u001b[0m 6s/step - dice_coefficient: 0.3913 - loss: 0.7135 - val_dice_coefficient: 0.3520 - val_loss: 0.7333\n",
            "Finished training Model 1. Best weights saved to /content/drive/MyDrive/isles22_unet_model_0.h5\n",
            "\n",
            "--- Training Model 2/3 ---\n",
            "Epoch 1/3\n"
          ]
        },
        {
          "output_type": "stream",
          "name": "stderr",
          "text": [
            "/usr/local/lib/python3.11/dist-packages/keras/src/models/functional.py:237: UserWarning: The structure of `inputs` doesn't match the expected structure.\n",
            "Expected: ['keras_tensor_36']\n",
            "Received: inputs=Tensor(shape=(None, 96, 96, 96, 3))\n",
            "  warnings.warn(msg)\n"
          ]
        },
        {
          "output_type": "stream",
          "name": "stdout",
          "text": [
            "\u001b[1m200/200\u001b[0m \u001b[32m━━━━━━━━━━━━━━━━━━━━\u001b[0m\u001b[37m\u001b[0m \u001b[1m0s\u001b[0m 5s/step - dice_coefficient: 0.0287 - loss: 1.2426"
          ]
        },
        {
          "output_type": "stream",
          "name": "stderr",
          "text": [
            "/usr/local/lib/python3.11/dist-packages/keras/src/models/functional.py:237: UserWarning: The structure of `inputs` doesn't match the expected structure.\n",
            "Expected: ['keras_tensor_36']\n",
            "Received: inputs=Tensor(shape=(None, 96, 96, 96, 3))\n",
            "  warnings.warn(msg)\n",
            "WARNING:absl:You are saving your model as an HDF5 file via `model.save()` or `keras.saving.save_model(model)`. This file format is considered legacy. We recommend using instead the native Keras format, e.g. `model.save('my_model.keras')` or `keras.saving.save_model(model, 'my_model.keras')`. \n"
          ]
        },
        {
          "output_type": "stream",
          "name": "stdout",
          "text": [
            "\b\b\b\b\b\b\b\b\b\b\b\b\b\b\b\b\b\b\b\b\b\b\b\b\b\b\b\b\b\b\b\b\b\b\b\b\b\b\b\b\b\b\b\b\b\b\b\b\b\b\b\b\b\b\b\b\b\b\b\b\b\b\b\b\b\b\b\b\b\b\b\b\b\b\b\b\b\b\b\b\b\r\u001b[1m200/200\u001b[0m \u001b[32m━━━━━━━━━━━━━━━━━━━━\u001b[0m\u001b[37m\u001b[0m \u001b[1m1243s\u001b[0m 6s/step - dice_coefficient: 0.0289 - loss: 1.2419 - val_dice_coefficient: 0.1876 - val_loss: 0.9284\n",
            "Epoch 2/3\n",
            "\u001b[1m200/200\u001b[0m \u001b[32m━━━━━━━━━━━━━━━━━━━━\u001b[0m\u001b[37m\u001b[0m \u001b[1m0s\u001b[0m 5s/step - dice_coefficient: 0.2229 - loss: 0.8971"
          ]
        },
        {
          "output_type": "stream",
          "name": "stderr",
          "text": [
            "WARNING:absl:You are saving your model as an HDF5 file via `model.save()` or `keras.saving.save_model(model)`. This file format is considered legacy. We recommend using instead the native Keras format, e.g. `model.save('my_model.keras')` or `keras.saving.save_model(model, 'my_model.keras')`. \n"
          ]
        },
        {
          "output_type": "stream",
          "name": "stdout",
          "text": [
            "\b\b\b\b\b\b\b\b\b\b\b\b\b\b\b\b\b\b\b\b\b\b\b\b\b\b\b\b\b\b\b\b\b\b\b\b\b\b\b\b\b\b\b\b\b\b\b\b\b\b\b\b\b\b\b\b\b\b\b\b\b\b\b\b\b\b\b\b\b\b\b\b\b\b\b\b\b\b\b\b\b\r\u001b[1m200/200\u001b[0m \u001b[32m━━━━━━━━━━━━━━━━━━━━\u001b[0m\u001b[37m\u001b[0m \u001b[1m1219s\u001b[0m 6s/step - dice_coefficient: 0.2230 - loss: 0.8971 - val_dice_coefficient: 0.2174 - val_loss: 0.9091\n",
            "Epoch 3/3\n",
            "\u001b[1m200/200\u001b[0m \u001b[32m━━━━━━━━━━━━━━━━━━━━\u001b[0m\u001b[37m\u001b[0m \u001b[1m1189s\u001b[0m 6s/step - dice_coefficient: 0.3022 - loss: 0.8099 - val_dice_coefficient: 0.2033 - val_loss: 0.9082\n",
            "Finished training Model 2. Best weights saved to /content/drive/MyDrive/isles22_unet_model_1.h5\n",
            "\n",
            "--- Training Model 3/3 ---\n",
            "Epoch 1/3\n"
          ]
        },
        {
          "output_type": "stream",
          "name": "stderr",
          "text": [
            "/usr/local/lib/python3.11/dist-packages/keras/src/models/functional.py:237: UserWarning: The structure of `inputs` doesn't match the expected structure.\n",
            "Expected: ['keras_tensor_54']\n",
            "Received: inputs=Tensor(shape=(None, 96, 96, 96, 3))\n",
            "  warnings.warn(msg)\n"
          ]
        },
        {
          "output_type": "stream",
          "name": "stdout",
          "text": [
            "\u001b[1m200/200\u001b[0m \u001b[32m━━━━━━━━━━━━━━━━━━━━\u001b[0m\u001b[37m\u001b[0m \u001b[1m0s\u001b[0m 5s/step - dice_coefficient: 0.0499 - loss: 1.1815"
          ]
        },
        {
          "output_type": "stream",
          "name": "stderr",
          "text": [
            "/usr/local/lib/python3.11/dist-packages/keras/src/models/functional.py:237: UserWarning: The structure of `inputs` doesn't match the expected structure.\n",
            "Expected: ['keras_tensor_54']\n",
            "Received: inputs=Tensor(shape=(None, 96, 96, 96, 3))\n",
            "  warnings.warn(msg)\n",
            "WARNING:absl:You are saving your model as an HDF5 file via `model.save()` or `keras.saving.save_model(model)`. This file format is considered legacy. We recommend using instead the native Keras format, e.g. `model.save('my_model.keras')` or `keras.saving.save_model(model, 'my_model.keras')`. \n"
          ]
        },
        {
          "output_type": "stream",
          "name": "stdout",
          "text": [
            "\b\b\b\b\b\b\b\b\b\b\b\b\b\b\b\b\b\b\b\b\b\b\b\b\b\b\b\b\b\b\b\b\b\b\b\b\b\b\b\b\b\b\b\b\b\b\b\b\b\b\b\b\b\b\b\b\b\b\b\b\b\b\b\b\b\b\b\b\b\b\b\b\b\b\b\b\b\b\b\b\b\r\u001b[1m200/200\u001b[0m \u001b[32m━━━━━━━━━━━━━━━━━━━━\u001b[0m\u001b[37m\u001b[0m \u001b[1m1229s\u001b[0m 6s/step - dice_coefficient: 0.0502 - loss: 1.1809 - val_dice_coefficient: 0.1680 - val_loss: 0.9410\n",
            "Epoch 2/3\n",
            "\u001b[1m200/200\u001b[0m \u001b[32m━━━━━━━━━━━━━━━━━━━━\u001b[0m\u001b[37m\u001b[0m \u001b[1m0s\u001b[0m 5s/step - dice_coefficient: 0.2659 - loss: 0.8464"
          ]
        },
        {
          "output_type": "stream",
          "name": "stderr",
          "text": [
            "WARNING:absl:You are saving your model as an HDF5 file via `model.save()` or `keras.saving.save_model(model)`. This file format is considered legacy. We recommend using instead the native Keras format, e.g. `model.save('my_model.keras')` or `keras.saving.save_model(model, 'my_model.keras')`. \n"
          ]
        },
        {
          "output_type": "stream",
          "name": "stdout",
          "text": [
            "\b\b\b\b\b\b\b\b\b\b\b\b\b\b\b\b\b\b\b\b\b\b\b\b\b\b\b\b\b\b\b\b\b\b\b\b\b\b\b\b\b\b\b\b\b\b\b\b\b\b\b\b\b\b\b\b\b\b\b\b\b\b\b\b\b\b\b\b\b\b\b\b\b\b\b\b\b\b\b\b\b\r\u001b[1m200/200\u001b[0m \u001b[32m━━━━━━━━━━━━━━━━━━━━\u001b[0m\u001b[37m\u001b[0m \u001b[1m1208s\u001b[0m 6s/step - dice_coefficient: 0.2661 - loss: 0.8462 - val_dice_coefficient: 0.2697 - val_loss: 0.8212\n",
            "Epoch 3/3\n",
            "\u001b[1m200/200\u001b[0m \u001b[32m━━━━━━━━━━━━━━━━━━━━\u001b[0m\u001b[37m\u001b[0m \u001b[1m0s\u001b[0m 5s/step - dice_coefficient: 0.3736 - loss: 0.7280"
          ]
        },
        {
          "output_type": "stream",
          "name": "stderr",
          "text": [
            "WARNING:absl:You are saving your model as an HDF5 file via `model.save()` or `keras.saving.save_model(model)`. This file format is considered legacy. We recommend using instead the native Keras format, e.g. `model.save('my_model.keras')` or `keras.saving.save_model(model, 'my_model.keras')`. \n"
          ]
        },
        {
          "output_type": "stream",
          "name": "stdout",
          "text": [
            "\b\b\b\b\b\b\b\b\b\b\b\b\b\b\b\b\b\b\b\b\b\b\b\b\b\b\b\b\b\b\b\b\b\b\b\b\b\b\b\b\b\b\b\b\b\b\b\b\b\b\b\b\b\b\b\b\b\b\b\b\b\b\b\b\b\b\b\b\b\b\b\b\b\b\b\b\b\b\b\b\b\r\u001b[1m200/200\u001b[0m \u001b[32m━━━━━━━━━━━━━━━━━━━━\u001b[0m\u001b[37m\u001b[0m \u001b[1m1210s\u001b[0m 6s/step - dice_coefficient: 0.3735 - loss: 0.7281 - val_dice_coefficient: 0.2846 - val_loss: 0.7874\n",
            "Finished training Model 3. Best weights saved to /content/drive/MyDrive/isles22_unet_model_2.h5\n",
            "\n",
            "Ensemble training complete.\n",
            "\n",
            "--- Evaluating Ensemble Performance ---\n"
          ]
        },
        {
          "output_type": "display_data",
          "data": {
            "text/plain": [
              "Evaluating Validation Set:   0%|          | 0/50 [00:00<?, ?it/s]"
            ],
            "application/vnd.jupyter.widget-view+json": {
              "version_major": 2,
              "version_minor": 0,
              "model_id": "b406cdef304c4011beca374b49aa07d5"
            }
          },
          "metadata": {}
        },
        {
          "output_type": "stream",
          "name": "stderr",
          "text": [
            "/usr/local/lib/python3.11/dist-packages/keras/src/models/functional.py:237: UserWarning: The structure of `inputs` doesn't match the expected structure.\n",
            "Expected: ['keras_tensor_72']\n",
            "Received: inputs=Tensor(shape=(1, 96, 96, 96, 3))\n",
            "  warnings.warn(msg)\n",
            "/usr/local/lib/python3.11/dist-packages/keras/src/models/functional.py:237: UserWarning: The structure of `inputs` doesn't match the expected structure.\n",
            "Expected: ['keras_tensor_90']\n",
            "Received: inputs=Tensor(shape=(1, 96, 96, 96, 3))\n",
            "  warnings.warn(msg)\n",
            "/usr/local/lib/python3.11/dist-packages/keras/src/models/functional.py:237: UserWarning: The structure of `inputs` doesn't match the expected structure.\n",
            "Expected: ['keras_tensor_108']\n",
            "Received: inputs=Tensor(shape=(1, 96, 96, 96, 3))\n",
            "  warnings.warn(msg)\n"
          ]
        },
        {
          "output_type": "stream",
          "name": "stdout",
          "text": [
            "\n",
            "--- Ensemble Evaluation Results ---\n",
            "Average Voxel-wise Dice Coefficient: 0.3594\n",
            "Average Lesion-wise F1 Score: 0.2618\n"
          ]
        }
      ],
      "source": [
        "# Step 1: Mount Google Drive and Install Libraries\n",
        "from google.colab import drive\n",
        "drive.mount('/content/drive')\n",
        "\n",
        "!pip install -q nibabel tensorflow scikit-image\n",
        "\n",
        "print(\"Libraries installed and Drive mounted successfully.\")\n",
        "\n",
        "# Step 2: Import Libraries and Define Configuration\n",
        "import os\n",
        "import glob\n",
        "import random\n",
        "import numpy as np\n",
        "import nibabel as nib\n",
        "import tensorflow as tf\n",
        "from tensorflow.keras import layers, models, optimizers\n",
        "from tensorflow.keras import backend as K\n",
        "from scipy.ndimage import zoom, label, rotate\n",
        "from skimage.transform import resize\n",
        "from sklearn.model_selection import train_test_split\n",
        "from tqdm.notebook import tqdm\n",
        "\n",
        "# Configuration (com as alterações para economizar RAM)\n",
        "class Config:\n",
        "    # Path Configuration\n",
        "    BASE_PATH = \"/content/drive/MyDrive/Python Files/ISLES-2022/ISLES-2022\"\n",
        "    DERIVATIVES_PATH = os.path.join(BASE_PATH, \"derivatives\")\n",
        "\n",
        "    # Data & Model Parameters\n",
        "    IMG_SIZE = (96, 96, 96)\n",
        "    VOXEL_SPACING = (1.0, 1.0, 1.0)\n",
        "    N_CHANNELS = 3\n",
        "    N_MODELS = 3\n",
        "\n",
        "    # Training Hyperparameters\n",
        "    BATCH_SIZE = 1\n",
        "    LEARNING_RATE = 1e-4\n",
        "    EPOCHS = 3\n",
        "\n",
        "CONFIG = Config()\n",
        "\n",
        "print(\"Configuration updated to save RAM.\")\n",
        "\n",
        "\n",
        "# Step 3: Data Loading and Preprocessing Functions\n",
        "def get_file_paths():\n",
        "    patient_folders = sorted(glob.glob(os.path.join(CONFIG.BASE_PATH, \"sub-strokecase*\")))\n",
        "    image_paths, mask_paths = [], []\n",
        "    for patient_folder in patient_folders:\n",
        "        patient_id = os.path.basename(patient_folder)\n",
        "        try:\n",
        "            dwi_path = glob.glob(os.path.join(patient_folder, \"ses-0001/dwi/*_dwi.nii.gz\"))[0]\n",
        "            adc_path = glob.glob(os.path.join(patient_folder, \"ses-0001/dwi/*_adc.nii.gz\"))[0]\n",
        "            flair_path = glob.glob(os.path.join(patient_folder, \"ses-0001/anat/*_FLAIR.nii.gz\"))[0]\n",
        "            mask_path = glob.glob(os.path.join(CONFIG.DERIVATIVES_PATH, f\"{patient_id}/ses-0001/*_msk.nii.gz\"))[0]\n",
        "            image_paths.append((dwi_path, adc_path, flair_path))\n",
        "            mask_paths.append(mask_path)\n",
        "        except IndexError:\n",
        "            print(f\"Skipping {patient_id} due to missing files.\")\n",
        "    return image_paths, mask_paths\n",
        "\n",
        "def resample_volume(data, header, new_spacing=CONFIG.VOXEL_SPACING):\n",
        "    original_spacing = header.get_zooms()\n",
        "    resize_factor = [orig / new for orig, new in zip(original_spacing, new_spacing)]\n",
        "    return zoom(data, resize_factor, order=1, mode='nearest')\n",
        "\n",
        "def preprocess_volume(volume_data):\n",
        "    mean, std = np.mean(volume_data), np.std(volume_data)\n",
        "    return (volume_data - mean) / std if std > 0 else volume_data\n",
        "\n",
        "def load_case(image_paths, mask_path):\n",
        "    dwi_path, adc_path, flair_path = image_paths\n",
        "    modalities = []\n",
        "    dwi_nii = nib.load(dwi_path)\n",
        "    dwi_data = resample_volume(dwi_nii.get_fdata(), dwi_nii.header)\n",
        "    dwi_data = preprocess_volume(dwi_data)\n",
        "    modalities.append(dwi_data)\n",
        "    reference_shape = dwi_data.shape\n",
        "    for path in [adc_path, flair_path]:\n",
        "        img_nii = nib.load(path)\n",
        "        img_data = resample_volume(img_nii.get_fdata(), img_nii.header)\n",
        "        img_data = preprocess_volume(img_data)\n",
        "        if img_data.shape != reference_shape:\n",
        "            img_data = resize(img_data, reference_shape, order=1, preserve_range=True, anti_aliasing=True)\n",
        "        modalities.append(img_data)\n",
        "    stacked_images = np.stack(modalities, axis=-1)\n",
        "    mask_nii = nib.load(mask_path)\n",
        "    mask_data = resample_volume(mask_nii.get_fdata(), mask_nii.header)\n",
        "    if mask_data.shape != reference_shape:\n",
        "        mask_data = resize(mask_data, reference_shape, order=0, preserve_range=True, anti_aliasing=False)\n",
        "    mask_data = (mask_data > 0).astype(np.float32)\n",
        "    return stacked_images, np.expand_dims(mask_data, axis=-1)\n",
        "\n",
        "print(\"Data helper functions defined.\")\n",
        "\n",
        "\n",
        "# Step 4: U-Net Model and 3D-Aware Augmentation\n",
        "def build_unet(input_shape):\n",
        "    inputs = layers.Input(shape=input_shape)\n",
        "    c1 = layers.Conv3D(32, (3, 3, 3), activation='relu', padding='same')(inputs)\n",
        "    c1 = layers.Conv3D(32, (3, 3, 3), activation='relu', padding='same')(c1)\n",
        "    p1 = layers.MaxPooling3D((2, 2, 2))(c1)\n",
        "    c2 = layers.Conv3D(64, (3, 3, 3), activation='relu', padding='same')(p1)\n",
        "    c2 = layers.Conv3D(64, (3, 3, 3), activation='relu', padding='same')(c2)\n",
        "    p2 = layers.MaxPooling3D((2, 2, 2))(c2)\n",
        "    c3 = layers.Conv3D(128, (3, 3, 3), activation='relu', padding='same')(p2)\n",
        "    c3 = layers.Conv3D(128, (3, 3, 3), activation='relu', padding='same')(c3)\n",
        "    u2 = layers.Conv3DTranspose(64, (2, 2, 2), strides=(2, 2, 2), padding='same')(c3)\n",
        "    u2 = layers.concatenate([u2, c2])\n",
        "    c4 = layers.Conv3D(64, (3, 3, 3), activation='relu', padding='same')(u2)\n",
        "    c4 = layers.Conv3D(64, (3, 3, 3), activation='relu', padding='same')(c4)\n",
        "    u1 = layers.Conv3DTranspose(32, (2, 2, 2), strides=(2, 2, 2), padding='same')(c4)\n",
        "    u1 = layers.concatenate([u1, c1])\n",
        "    c5 = layers.Conv3D(32, (3, 3, 3), activation='relu', padding='same')(u1)\n",
        "    c5 = layers.Conv3D(32, (3, 3, 3), activation='relu', padding='same')(c5)\n",
        "    outputs = layers.Conv3D(1, (1, 1, 1), activation='sigmoid')(c5)\n",
        "    return models.Model(inputs=[inputs], outputs=[outputs])\n",
        "\n",
        "def augment_3d(image, mask):\n",
        "    if random.random() > 0.5:\n",
        "        image, mask = np.flip(image, axis=2), np.flip(mask, axis=2)\n",
        "    if random.random() > 0.5:\n",
        "        angle = random.uniform(-15, 15)\n",
        "        image = rotate(image, angle, axes=(1, 2), reshape=False, order=1, mode='constant', cval=0)\n",
        "        mask = rotate(mask, angle, axes=(1, 2), reshape=False, order=0, mode='constant', cval=0)\n",
        "    if random.random() > 0.3:\n",
        "        image += np.random.normal(0, 0.1, image.shape)\n",
        "    return image, mask\n",
        "\n",
        "print(\"U-Net and 3D Augmentation functions defined.\")\n",
        "\n",
        "\n",
        "# Step 5: Loss, Metrics, and Data Generator\n",
        "def dice_coefficient(y_true, y_pred, smooth=1e-6):\n",
        "    y_true_f, y_pred_f = K.flatten(y_true), K.flatten(y_pred)\n",
        "    intersection = K.sum(y_true_f * y_pred_f)\n",
        "    return (2. * intersection + smooth) / (K.sum(y_true_f) + K.sum(y_pred_f) + smooth)\n",
        "\n",
        "def dice_loss(y_true, y_pred):\n",
        "    return 1 - dice_coefficient(y_true, y_pred)\n",
        "\n",
        "def combined_loss(y_true, y_pred):\n",
        "    return dice_loss(y_true, y_pred) + tf.keras.losses.binary_crossentropy(y_true, y_pred)\n",
        "\n",
        "def crop_or_pad_volume_robust(volume, target_shape):\n",
        "    d, h, w = volume.shape[:3]\n",
        "    td, th, tw = target_shape\n",
        "    d_start = (d - td) // 2 if d > td else 0\n",
        "    h_start = (h - th) // 2 if h > th else 0\n",
        "    w_start = (w - tw) // 2 if w > tw else 0\n",
        "    cropped_volume = volume[d_start:d_start + td, h_start:h_start + th, w_start:w_start + tw, :]\n",
        "    cd, ch, cw = cropped_volume.shape[:3]\n",
        "    d_pad_before, d_pad_after = (td - cd) // 2, td - cd - ((td - cd) // 2)\n",
        "    h_pad_before, h_pad_after = (th - ch) // 2, th - ch - ((th - ch) // 2)\n",
        "    w_pad_before, w_pad_after = (tw - cw) // 2, tw - cw - ((tw - cw) // 2)\n",
        "    padding_config = [(d_pad_before, d_pad_after), (h_pad_before, h_pad_after), (w_pad_before, w_pad_after), (0, 0)]\n",
        "    final_volume = np.pad(cropped_volume, pad_width=padding_config, mode='constant')\n",
        "    assert final_volume.shape[:3] == target_shape\n",
        "    return final_volume\n",
        "\n",
        "class DataGenerator(tf.keras.utils.Sequence):\n",
        "    def __init__(self, image_paths, mask_paths, batch_size, augment=False):\n",
        "        self.image_paths, self.mask_paths = image_paths, mask_paths\n",
        "        self.batch_size, self.augment = batch_size, augment\n",
        "        self.on_epoch_end()\n",
        "\n",
        "    def __len__(self):\n",
        "        return int(np.floor(len(self.image_paths) / self.batch_size))\n",
        "\n",
        "    def __getitem__(self, index):\n",
        "        indices = self.indices[index*self.batch_size:(index+1)*self.batch_size]\n",
        "        batch_images, batch_masks = [], []\n",
        "        for i in indices:\n",
        "            img, mask = load_case(self.image_paths[i], self.mask_paths[i])\n",
        "            if self.augment:\n",
        "                img, mask = augment_3d(img, mask)\n",
        "            img = crop_or_pad_volume_robust(img, CONFIG.IMG_SIZE)\n",
        "            mask = crop_or_pad_volume_robust(mask, CONFIG.IMG_SIZE)\n",
        "            batch_images.append(img)\n",
        "            batch_masks.append(mask)\n",
        "        return np.array(batch_images), np.array(batch_masks)\n",
        "\n",
        "    def on_epoch_end(self):\n",
        "        self.indices = np.arange(len(self.image_paths))\n",
        "        np.random.shuffle(self.indices)\n",
        "\n",
        "print(\"Loss, metrics, and robust data generator are ready.\")\n",
        "\n",
        "\n",
        "# Step 6: Training the Ensemble\n",
        "print(\"Loading file paths...\")\n",
        "all_image_paths, all_mask_paths = get_file_paths()\n",
        "train_img_paths, val_img_paths, train_mask_paths, val_mask_paths = train_test_split(\n",
        "    all_image_paths, all_mask_paths, test_size=0.2, random_state=42\n",
        ")\n",
        "train_generator = DataGenerator(train_img_paths, train_mask_paths, CONFIG.BATCH_SIZE, augment=True)\n",
        "val_generator = DataGenerator(val_img_paths, val_mask_paths, CONFIG.BATCH_SIZE, augment=False)\n",
        "print(f\"Data prepared: {len(train_img_paths)} training, {len(val_img_paths)} validation cases.\")\n",
        "\n",
        "input_shape = CONFIG.IMG_SIZE + (CONFIG.N_CHANNELS,)\n",
        "for i in range(CONFIG.N_MODELS):\n",
        "    print(f\"\\n--- Training Model {i+1}/{CONFIG.N_MODELS} ---\")\n",
        "    model = build_unet(input_shape)\n",
        "    model.compile(optimizer=optimizers.Adam(learning_rate=CONFIG.LEARNING_RATE),\n",
        "                  loss=combined_loss,\n",
        "                  metrics=[dice_coefficient])\n",
        "    model_checkpoint_path = f\"/content/drive/MyDrive/isles22_unet_model_{i}.h5\"\n",
        "    checkpoint = tf.keras.callbacks.ModelCheckpoint(\n",
        "        model_checkpoint_path, monitor='val_dice_coefficient', save_best_only=True, mode='max'\n",
        "    )\n",
        "    early_stopping = tf.keras.callbacks.EarlyStopping(\n",
        "        monitor='val_dice_coefficient', patience=10, mode='max', restore_best_weights=True\n",
        "    )\n",
        "\n",
        "    # CORREÇÃO: O argumento 'workers' foi removido da chamada .fit()\n",
        "    history = model.fit(\n",
        "        train_generator,\n",
        "        validation_data=val_generator,\n",
        "        epochs=CONFIG.EPOCHS,\n",
        "        callbacks=[checkpoint, early_stopping]\n",
        "    )\n",
        "    print(f\"Finished training Model {i+1}. Best weights saved to {model_checkpoint_path}\")\n",
        "print(\"\\nEnsemble training complete.\")\n",
        "\n",
        "\n",
        "# Step 7: Evaluation\n",
        "def lesion_wise_f1(y_true, y_pred):\n",
        "    true_labels, num_true = label(y_true)\n",
        "    pred_labels, num_pred = label(y_pred)\n",
        "    if num_true == 0 and num_pred == 0: return 1.0\n",
        "    if num_true == 0 or num_pred == 0: return 0.0\n",
        "    true_positives = 0\n",
        "    for i in range(1, num_true + 1):\n",
        "        if np.sum(y_pred[true_labels == i]) > 0:\n",
        "            true_positives += 1\n",
        "    precision = true_positives / num_pred if num_pred > 0 else 0\n",
        "    recall = true_positives / num_true if num_true > 0 else 0\n",
        "    return 2 * (precision * recall) / (precision + recall) if (precision + recall) > 0 else 0\n",
        "\n",
        "def evaluate_ensemble(model_paths, val_generator):\n",
        "    input_shape = CONFIG.IMG_SIZE + (CONFIG.N_CHANNELS,)\n",
        "    ensemble_models = []\n",
        "    for path in model_paths:\n",
        "        model = build_unet(input_shape)\n",
        "        model.load_weights(path)\n",
        "        ensemble_models.append(model)\n",
        "\n",
        "    all_dice_scores, all_f1_scores = [], []\n",
        "    print(\"\\n--- Evaluating Ensemble Performance ---\")\n",
        "    for i in tqdm(range(len(val_generator)), desc=\"Evaluating Validation Set\"):\n",
        "        X_val, y_val = val_generator[i]\n",
        "        for j in range(X_val.shape[0]):\n",
        "            image, mask_true = np.expand_dims(X_val[j], axis=0), y_val[j]\n",
        "            predictions = [model.predict(image, verbose=0)[0] for model in ensemble_models]\n",
        "            ensembled_pred_mask = (np.mean(predictions, axis=0) > 0.5).astype(np.uint8)\n",
        "            dice_score = dice_coefficient(mask_true.astype(np.float32), ensembled_pred_mask.astype(np.float32)).numpy()\n",
        "            f1_score = lesion_wise_f1(mask_true.squeeze(), ensembled_pred_mask.squeeze())\n",
        "            all_dice_scores.append(dice_score)\n",
        "            all_f1_scores.append(f1_score)\n",
        "\n",
        "    avg_dice, avg_f1 = np.mean(all_dice_scores), np.mean(all_f1_scores)\n",
        "    print(f\"\\n--- Ensemble Evaluation Results ---\")\n",
        "    print(f\"Average Voxel-wise Dice Coefficient: {avg_dice:.4f}\")\n",
        "    print(f\"Average Lesion-wise F1 Score: {avg_f1:.4f}\")\n",
        "\n",
        "# --- Run Evaluation ---\n",
        "model_paths = [f\"/content/drive/MyDrive/isles22_unet_model_{i}.h5\" for i in range(CONFIG.N_MODELS)]\n",
        "evaluate_ensemble(model_paths, val_generator)"
      ]
    },
    {
      "cell_type": "markdown",
      "source": [
        "------\n",
        "#<font size=6 color=grey> Algoritmo 2: ResNet + U-Net\n",
        "--------------------------------------\n"
      ],
      "metadata": {
        "id": "Hbuq2IuTj8_b"
      }
    },
    {
      "cell_type": "code",
      "execution_count": null,
      "metadata": {
        "id": "VDoLUJK7wxam",
        "colab": {
          "base_uri": "https://localhost:8080/",
          "height": 1000,
          "referenced_widgets": [
            "ee628f5ffd214758b1785aa69fa10a42",
            "369e37b28aa1411ab07e4f0d132ef236",
            "3fee9b1a294a4a6fb4cb27fdfe60d560",
            "92b2c12b99de446ebce075eace1d6a3c",
            "6c3b34b2af8e44b885d3e2d2dfbc3db4",
            "1cc025e7732a4b85b8d9970f4f7f38a3",
            "6a3f4c297d6a42eea83d7fbb622ccea5",
            "c92bcc8824fa49c1a09183363dfb0de9",
            "9c44c8e792364ca2b6654ec7ccb2b791",
            "15b1abf7fa014294b91448107b997eb8",
            "e8c0342b932a4f84b12fd2cdff145e28"
          ]
        },
        "outputId": "99e43d0d-66fc-4d37-9dd9-6ad2c1ad7c96"
      },
      "outputs": [
        {
          "output_type": "stream",
          "name": "stdout",
          "text": [
            "Drive already mounted at /content/drive; to attempt to forcibly remount, call drive.mount(\"/content/drive\", force_remount=True).\n",
            "Libraries installed and Drive mounted successfully.\n",
            "Configuration loaded. Image size set to: (96, 96, 96)\n",
            "Data helper functions defined.\n",
            "ResU-Net model and 3D Augmentation functions defined.\n",
            "Loss, metrics, and data generator are ready.\n",
            "Loading file paths...\n",
            "Found 250 patient folders.\n",
            "Data prepared: 200 training, 50 validation cases.\n",
            "\n",
            "--- Training Model 1/3 ---\n"
          ]
        },
        {
          "output_type": "stream",
          "name": "stderr",
          "text": [
            "/usr/local/lib/python3.11/dist-packages/keras/src/trainers/data_adapters/py_dataset_adapter.py:121: UserWarning: Your `PyDataset` class should call `super().__init__(**kwargs)` in its constructor. `**kwargs` can include `workers`, `use_multiprocessing`, `max_queue_size`. Do not pass these arguments to `fit()`, as they will be ignored.\n",
            "  self._warn_if_super_not_called()\n"
          ]
        },
        {
          "output_type": "stream",
          "name": "stdout",
          "text": [
            "Epoch 1/25\n"
          ]
        },
        {
          "output_type": "stream",
          "name": "stderr",
          "text": [
            "/usr/local/lib/python3.11/dist-packages/keras/src/models/functional.py:237: UserWarning: The structure of `inputs` doesn't match the expected structure.\n",
            "Expected: ['keras_tensor_53']\n",
            "Received: inputs=Tensor(shape=(None, 96, 96, 96, 3))\n",
            "  warnings.warn(msg)\n"
          ]
        },
        {
          "output_type": "stream",
          "name": "stdout",
          "text": [
            "\u001b[1m200/200\u001b[0m \u001b[32m━━━━━━━━━━━━━━━━━━━━\u001b[0m\u001b[37m\u001b[0m \u001b[1m0s\u001b[0m 8s/step - accuracy: 0.8367 - dice_coefficient: 0.0223 - loss: 0.9777"
          ]
        },
        {
          "output_type": "stream",
          "name": "stderr",
          "text": [
            "/usr/local/lib/python3.11/dist-packages/keras/src/trainers/data_adapters/py_dataset_adapter.py:121: UserWarning: Your `PyDataset` class should call `super().__init__(**kwargs)` in its constructor. `**kwargs` can include `workers`, `use_multiprocessing`, `max_queue_size`. Do not pass these arguments to `fit()`, as they will be ignored.\n",
            "  self._warn_if_super_not_called()\n",
            "/usr/local/lib/python3.11/dist-packages/keras/src/models/functional.py:237: UserWarning: The structure of `inputs` doesn't match the expected structure.\n",
            "Expected: ['keras_tensor_53']\n",
            "Received: inputs=Tensor(shape=(None, 96, 96, 96, 3))\n",
            "  warnings.warn(msg)\n",
            "WARNING:absl:You are saving your model as an HDF5 file via `model.save()` or `keras.saving.save_model(model)`. This file format is considered legacy. We recommend using instead the native Keras format, e.g. `model.save('my_model.keras')` or `keras.saving.save_model(model, 'my_model.keras')`. \n"
          ]
        },
        {
          "output_type": "stream",
          "name": "stdout",
          "text": [
            "\b\b\b\b\b\b\b\b\b\b\b\b\b\b\b\b\b\b\b\b\b\b\b\b\b\b\b\b\b\b\b\b\b\b\b\b\b\b\b\b\b\b\b\b\b\b\b\b\b\b\b\b\b\b\b\b\b\b\b\b\b\b\b\b\b\b\b\b\b\b\b\b\b\b\b\b\b\b\b\b\b\b\b\b\b\b\b\b\b\b\b\b\b\b\b\b\b\b\b\b\r\u001b[1m200/200\u001b[0m \u001b[32m━━━━━━━━━━━━━━━━━━━━\u001b[0m\u001b[37m\u001b[0m \u001b[1m2026s\u001b[0m 10s/step - accuracy: 0.8370 - dice_coefficient: 0.0224 - loss: 0.9776 - val_accuracy: 0.9406 - val_dice_coefficient: 0.0242 - val_loss: 0.9758\n",
            "Epoch 2/25\n",
            "\u001b[1m200/200\u001b[0m \u001b[32m━━━━━━━━━━━━━━━━━━━━\u001b[0m\u001b[37m\u001b[0m \u001b[1m0s\u001b[0m 1s/step - accuracy: 0.9580 - dice_coefficient: 0.0473 - loss: 0.9527"
          ]
        },
        {
          "output_type": "stream",
          "name": "stderr",
          "text": [
            "WARNING:absl:You are saving your model as an HDF5 file via `model.save()` or `keras.saving.save_model(model)`. This file format is considered legacy. We recommend using instead the native Keras format, e.g. `model.save('my_model.keras')` or `keras.saving.save_model(model, 'my_model.keras')`. \n"
          ]
        },
        {
          "output_type": "stream",
          "name": "stdout",
          "text": [
            "\b\b\b\b\b\b\b\b\b\b\b\b\b\b\b\b\b\b\b\b\b\b\b\b\b\b\b\b\b\b\b\b\b\b\b\b\b\b\b\b\b\b\b\b\b\b\b\b\b\b\b\b\b\b\b\b\b\b\b\b\b\b\b\b\b\b\b\b\b\b\b\b\b\b\b\b\b\b\b\b\b\b\b\b\b\b\b\b\b\b\b\b\b\b\b\b\b\b\b\b\r\u001b[1m200/200\u001b[0m \u001b[32m━━━━━━━━━━━━━━━━━━━━\u001b[0m\u001b[37m\u001b[0m \u001b[1m294s\u001b[0m 1s/step - accuracy: 0.9580 - dice_coefficient: 0.0474 - loss: 0.9526 - val_accuracy: 0.9856 - val_dice_coefficient: 0.0429 - val_loss: 0.9571\n",
            "Epoch 3/25\n",
            "\u001b[1m200/200\u001b[0m \u001b[32m━━━━━━━━━━━━━━━━━━━━\u001b[0m\u001b[37m\u001b[0m \u001b[1m0s\u001b[0m 1s/step - accuracy: 0.9728 - dice_coefficient: 0.0804 - loss: 0.9196"
          ]
        },
        {
          "output_type": "stream",
          "name": "stderr",
          "text": [
            "WARNING:absl:You are saving your model as an HDF5 file via `model.save()` or `keras.saving.save_model(model)`. This file format is considered legacy. We recommend using instead the native Keras format, e.g. `model.save('my_model.keras')` or `keras.saving.save_model(model, 'my_model.keras')`. \n"
          ]
        },
        {
          "output_type": "stream",
          "name": "stdout",
          "text": [
            "\b\b\b\b\b\b\b\b\b\b\b\b\b\b\b\b\b\b\b\b\b\b\b\b\b\b\b\b\b\b\b\b\b\b\b\b\b\b\b\b\b\b\b\b\b\b\b\b\b\b\b\b\b\b\b\b\b\b\b\b\b\b\b\b\b\b\b\b\b\b\b\b\b\b\b\b\b\b\b\b\b\b\b\b\b\b\b\b\b\b\b\b\b\b\b\b\b\b\b\b\r\u001b[1m200/200\u001b[0m \u001b[32m━━━━━━━━━━━━━━━━━━━━\u001b[0m\u001b[37m\u001b[0m \u001b[1m297s\u001b[0m 1s/step - accuracy: 0.9728 - dice_coefficient: 0.0804 - loss: 0.9196 - val_accuracy: 0.9910 - val_dice_coefficient: 0.0573 - val_loss: 0.9427\n",
            "Epoch 4/25\n",
            "\u001b[1m200/200\u001b[0m \u001b[32m━━━━━━━━━━━━━━━━━━━━\u001b[0m\u001b[37m\u001b[0m \u001b[1m0s\u001b[0m 1s/step - accuracy: 0.9852 - dice_coefficient: 0.0837 - loss: 0.9163"
          ]
        },
        {
          "output_type": "stream",
          "name": "stderr",
          "text": [
            "WARNING:absl:You are saving your model as an HDF5 file via `model.save()` or `keras.saving.save_model(model)`. This file format is considered legacy. We recommend using instead the native Keras format, e.g. `model.save('my_model.keras')` or `keras.saving.save_model(model, 'my_model.keras')`. \n"
          ]
        },
        {
          "output_type": "stream",
          "name": "stdout",
          "text": [
            "\b\b\b\b\b\b\b\b\b\b\b\b\b\b\b\b\b\b\b\b\b\b\b\b\b\b\b\b\b\b\b\b\b\b\b\b\b\b\b\b\b\b\b\b\b\b\b\b\b\b\b\b\b\b\b\b\b\b\b\b\b\b\b\b\b\b\b\b\b\b\b\b\b\b\b\b\b\b\b\b\b\b\b\b\b\b\b\b\b\b\b\b\b\b\b\b\b\b\b\b\r\u001b[1m200/200\u001b[0m \u001b[32m━━━━━━━━━━━━━━━━━━━━\u001b[0m\u001b[37m\u001b[0m \u001b[1m290s\u001b[0m 1s/step - accuracy: 0.9852 - dice_coefficient: 0.0837 - loss: 0.9163 - val_accuracy: 0.9547 - val_dice_coefficient: 0.0596 - val_loss: 0.9404\n",
            "Epoch 5/25\n",
            "\u001b[1m200/200\u001b[0m \u001b[32m━━━━━━━━━━━━━━━━━━━━\u001b[0m\u001b[37m\u001b[0m \u001b[1m0s\u001b[0m 1s/step - accuracy: 0.9832 - dice_coefficient: 0.1081 - loss: 0.8919"
          ]
        },
        {
          "output_type": "stream",
          "name": "stderr",
          "text": [
            "WARNING:absl:You are saving your model as an HDF5 file via `model.save()` or `keras.saving.save_model(model)`. This file format is considered legacy. We recommend using instead the native Keras format, e.g. `model.save('my_model.keras')` or `keras.saving.save_model(model, 'my_model.keras')`. \n"
          ]
        },
        {
          "output_type": "stream",
          "name": "stdout",
          "text": [
            "\b\b\b\b\b\b\b\b\b\b\b\b\b\b\b\b\b\b\b\b\b\b\b\b\b\b\b\b\b\b\b\b\b\b\b\b\b\b\b\b\b\b\b\b\b\b\b\b\b\b\b\b\b\b\b\b\b\b\b\b\b\b\b\b\b\b\b\b\b\b\b\b\b\b\b\b\b\b\b\b\b\b\b\b\b\b\b\b\b\b\b\b\b\b\b\b\b\b\b\b\r\u001b[1m200/200\u001b[0m \u001b[32m━━━━━━━━━━━━━━━━━━━━\u001b[0m\u001b[37m\u001b[0m \u001b[1m290s\u001b[0m 1s/step - accuracy: 0.9833 - dice_coefficient: 0.1081 - loss: 0.8919 - val_accuracy: 0.9680 - val_dice_coefficient: 0.0736 - val_loss: 0.9264\n",
            "Epoch 6/25\n",
            "\u001b[1m200/200\u001b[0m \u001b[32m━━━━━━━━━━━━━━━━━━━━\u001b[0m\u001b[37m\u001b[0m \u001b[1m0s\u001b[0m 1s/step - accuracy: 0.9892 - dice_coefficient: 0.1244 - loss: 0.8756"
          ]
        },
        {
          "output_type": "stream",
          "name": "stderr",
          "text": [
            "WARNING:absl:You are saving your model as an HDF5 file via `model.save()` or `keras.saving.save_model(model)`. This file format is considered legacy. We recommend using instead the native Keras format, e.g. `model.save('my_model.keras')` or `keras.saving.save_model(model, 'my_model.keras')`. \n"
          ]
        },
        {
          "output_type": "stream",
          "name": "stdout",
          "text": [
            "\b\b\b\b\b\b\b\b\b\b\b\b\b\b\b\b\b\b\b\b\b\b\b\b\b\b\b\b\b\b\b\b\b\b\b\b\b\b\b\b\b\b\b\b\b\b\b\b\b\b\b\b\b\b\b\b\b\b\b\b\b\b\b\b\b\b\b\b\b\b\b\b\b\b\b\b\b\b\b\b\b\b\b\b\b\b\b\b\b\b\b\b\b\b\b\b\b\b\b\b\r\u001b[1m200/200\u001b[0m \u001b[32m━━━━━━━━━━━━━━━━━━━━\u001b[0m\u001b[37m\u001b[0m \u001b[1m299s\u001b[0m 1s/step - accuracy: 0.9892 - dice_coefficient: 0.1245 - loss: 0.8755 - val_accuracy: 0.9964 - val_dice_coefficient: 0.1112 - val_loss: 0.8888\n",
            "Epoch 7/25\n",
            "\u001b[1m200/200\u001b[0m \u001b[32m━━━━━━━━━━━━━━━━━━━━\u001b[0m\u001b[37m\u001b[0m \u001b[1m0s\u001b[0m 1s/step - accuracy: 0.9946 - dice_coefficient: 0.1641 - loss: 0.8359"
          ]
        },
        {
          "output_type": "stream",
          "name": "stderr",
          "text": [
            "WARNING:absl:You are saving your model as an HDF5 file via `model.save()` or `keras.saving.save_model(model)`. This file format is considered legacy. We recommend using instead the native Keras format, e.g. `model.save('my_model.keras')` or `keras.saving.save_model(model, 'my_model.keras')`. \n"
          ]
        },
        {
          "output_type": "stream",
          "name": "stdout",
          "text": [
            "\b\b\b\b\b\b\b\b\b\b\b\b\b\b\b\b\b\b\b\b\b\b\b\b\b\b\b\b\b\b\b\b\b\b\b\b\b\b\b\b\b\b\b\b\b\b\b\b\b\b\b\b\b\b\b\b\b\b\b\b\b\b\b\b\b\b\b\b\b\b\b\b\b\b\b\b\b\b\b\b\b\b\b\b\b\b\b\b\b\b\b\b\b\b\b\b\b\b\b\b\r\u001b[1m200/200\u001b[0m \u001b[32m━━━━━━━━━━━━━━━━━━━━\u001b[0m\u001b[37m\u001b[0m \u001b[1m295s\u001b[0m 1s/step - accuracy: 0.9946 - dice_coefficient: 0.1642 - loss: 0.8358 - val_accuracy: 0.9943 - val_dice_coefficient: 0.1477 - val_loss: 0.8523\n",
            "Epoch 8/25\n",
            "\u001b[1m200/200\u001b[0m \u001b[32m━━━━━━━━━━━━━━━━━━━━\u001b[0m\u001b[37m\u001b[0m \u001b[1m0s\u001b[0m 1s/step - accuracy: 0.9953 - dice_coefficient: 0.2085 - loss: 0.7915"
          ]
        },
        {
          "output_type": "stream",
          "name": "stderr",
          "text": [
            "WARNING:absl:You are saving your model as an HDF5 file via `model.save()` or `keras.saving.save_model(model)`. This file format is considered legacy. We recommend using instead the native Keras format, e.g. `model.save('my_model.keras')` or `keras.saving.save_model(model, 'my_model.keras')`. \n"
          ]
        },
        {
          "output_type": "stream",
          "name": "stdout",
          "text": [
            "\b\b\b\b\b\b\b\b\b\b\b\b\b\b\b\b\b\b\b\b\b\b\b\b\b\b\b\b\b\b\b\b\b\b\b\b\b\b\b\b\b\b\b\b\b\b\b\b\b\b\b\b\b\b\b\b\b\b\b\b\b\b\b\b\b\b\b\b\b\b\b\b\b\b\b\b\b\b\b\b\b\b\b\b\b\b\b\b\b\b\b\b\b\b\b\b\b\b\b\b\r\u001b[1m200/200\u001b[0m \u001b[32m━━━━━━━━━━━━━━━━━━━━\u001b[0m\u001b[37m\u001b[0m \u001b[1m290s\u001b[0m 1s/step - accuracy: 0.9953 - dice_coefficient: 0.2086 - loss: 0.7914 - val_accuracy: 0.9897 - val_dice_coefficient: 0.1616 - val_loss: 0.8384\n",
            "Epoch 9/25\n",
            "\u001b[1m200/200\u001b[0m \u001b[32m━━━━━━━━━━━━━━━━━━━━\u001b[0m\u001b[37m\u001b[0m \u001b[1m0s\u001b[0m 1s/step - accuracy: 0.9961 - dice_coefficient: 0.2625 - loss: 0.7375"
          ]
        },
        {
          "output_type": "stream",
          "name": "stderr",
          "text": [
            "WARNING:absl:You are saving your model as an HDF5 file via `model.save()` or `keras.saving.save_model(model)`. This file format is considered legacy. We recommend using instead the native Keras format, e.g. `model.save('my_model.keras')` or `keras.saving.save_model(model, 'my_model.keras')`. \n"
          ]
        },
        {
          "output_type": "stream",
          "name": "stdout",
          "text": [
            "\b\b\b\b\b\b\b\b\b\b\b\b\b\b\b\b\b\b\b\b\b\b\b\b\b\b\b\b\b\b\b\b\b\b\b\b\b\b\b\b\b\b\b\b\b\b\b\b\b\b\b\b\b\b\b\b\b\b\b\b\b\b\b\b\b\b\b\b\b\b\b\b\b\b\b\b\b\b\b\b\b\b\b\b\b\b\b\b\b\b\b\b\b\b\b\b\b\b\b\b\r\u001b[1m200/200\u001b[0m \u001b[32m━━━━━━━━━━━━━━━━━━━━\u001b[0m\u001b[37m\u001b[0m \u001b[1m289s\u001b[0m 1s/step - accuracy: 0.9961 - dice_coefficient: 0.2625 - loss: 0.7375 - val_accuracy: 0.9967 - val_dice_coefficient: 0.2116 - val_loss: 0.7884\n",
            "Epoch 10/25\n",
            "\u001b[1m200/200\u001b[0m \u001b[32m━━━━━━━━━━━━━━━━━━━━\u001b[0m\u001b[37m\u001b[0m \u001b[1m0s\u001b[0m 1s/step - accuracy: 0.9974 - dice_coefficient: 0.3072 - loss: 0.6928"
          ]
        },
        {
          "output_type": "stream",
          "name": "stderr",
          "text": [
            "WARNING:absl:You are saving your model as an HDF5 file via `model.save()` or `keras.saving.save_model(model)`. This file format is considered legacy. We recommend using instead the native Keras format, e.g. `model.save('my_model.keras')` or `keras.saving.save_model(model, 'my_model.keras')`. \n"
          ]
        },
        {
          "output_type": "stream",
          "name": "stdout",
          "text": [
            "\b\b\b\b\b\b\b\b\b\b\b\b\b\b\b\b\b\b\b\b\b\b\b\b\b\b\b\b\b\b\b\b\b\b\b\b\b\b\b\b\b\b\b\b\b\b\b\b\b\b\b\b\b\b\b\b\b\b\b\b\b\b\b\b\b\b\b\b\b\b\b\b\b\b\b\b\b\b\b\b\b\b\b\b\b\b\b\b\b\b\b\b\b\b\b\b\b\b\b\b\r\u001b[1m200/200\u001b[0m \u001b[32m━━━━━━━━━━━━━━━━━━━━\u001b[0m\u001b[37m\u001b[0m \u001b[1m296s\u001b[0m 1s/step - accuracy: 0.9974 - dice_coefficient: 0.3072 - loss: 0.6928 - val_accuracy: 0.9979 - val_dice_coefficient: 0.2624 - val_loss: 0.7376\n",
            "Epoch 11/25\n",
            "\u001b[1m200/200\u001b[0m \u001b[32m━━━━━━━━━━━━━━━━━━━━\u001b[0m\u001b[37m\u001b[0m \u001b[1m291s\u001b[0m 1s/step - accuracy: 0.9981 - dice_coefficient: 0.3510 - loss: 0.6490 - val_accuracy: 0.9943 - val_dice_coefficient: 0.2471 - val_loss: 0.7529\n",
            "Epoch 12/25\n",
            "\u001b[1m200/200\u001b[0m \u001b[32m━━━━━━━━━━━━━━━━━━━━\u001b[0m\u001b[37m\u001b[0m \u001b[1m294s\u001b[0m 1s/step - accuracy: 0.9982 - dice_coefficient: 0.3858 - loss: 0.6142 - val_accuracy: 0.9923 - val_dice_coefficient: 0.2570 - val_loss: 0.7430\n",
            "Epoch 13/25\n",
            "\u001b[1m200/200\u001b[0m \u001b[32m━━━━━━━━━━━━━━━━━━━━\u001b[0m\u001b[37m\u001b[0m \u001b[1m0s\u001b[0m 1s/step - accuracy: 0.9974 - dice_coefficient: 0.4596 - loss: 0.5404"
          ]
        },
        {
          "output_type": "stream",
          "name": "stderr",
          "text": [
            "WARNING:absl:You are saving your model as an HDF5 file via `model.save()` or `keras.saving.save_model(model)`. This file format is considered legacy. We recommend using instead the native Keras format, e.g. `model.save('my_model.keras')` or `keras.saving.save_model(model, 'my_model.keras')`. \n"
          ]
        },
        {
          "output_type": "stream",
          "name": "stdout",
          "text": [
            "\b\b\b\b\b\b\b\b\b\b\b\b\b\b\b\b\b\b\b\b\b\b\b\b\b\b\b\b\b\b\b\b\b\b\b\b\b\b\b\b\b\b\b\b\b\b\b\b\b\b\b\b\b\b\b\b\b\b\b\b\b\b\b\b\b\b\b\b\b\b\b\b\b\b\b\b\b\b\b\b\b\b\b\b\b\b\b\b\b\b\b\b\b\b\b\b\b\b\b\b\r\u001b[1m200/200\u001b[0m \u001b[32m━━━━━━━━━━━━━━━━━━━━\u001b[0m\u001b[37m\u001b[0m \u001b[1m292s\u001b[0m 1s/step - accuracy: 0.9974 - dice_coefficient: 0.4596 - loss: 0.5404 - val_accuracy: 0.9983 - val_dice_coefficient: 0.3686 - val_loss: 0.6314\n",
            "Epoch 14/25\n",
            "\u001b[1m200/200\u001b[0m \u001b[32m━━━━━━━━━━━━━━━━━━━━\u001b[0m\u001b[37m\u001b[0m \u001b[1m0s\u001b[0m 1s/step - accuracy: 0.9980 - dice_coefficient: 0.4934 - loss: 0.5066"
          ]
        },
        {
          "output_type": "stream",
          "name": "stderr",
          "text": [
            "WARNING:absl:You are saving your model as an HDF5 file via `model.save()` or `keras.saving.save_model(model)`. This file format is considered legacy. We recommend using instead the native Keras format, e.g. `model.save('my_model.keras')` or `keras.saving.save_model(model, 'my_model.keras')`. \n"
          ]
        },
        {
          "output_type": "stream",
          "name": "stdout",
          "text": [
            "\b\b\b\b\b\b\b\b\b\b\b\b\b\b\b\b\b\b\b\b\b\b\b\b\b\b\b\b\b\b\b\b\b\b\b\b\b\b\b\b\b\b\b\b\b\b\b\b\b\b\b\b\b\b\b\b\b\b\b\b\b\b\b\b\b\b\b\b\b\b\b\b\b\b\b\b\b\b\b\b\b\b\b\b\b\b\b\b\b\b\b\b\b\b\b\b\b\b\b\b\r\u001b[1m200/200\u001b[0m \u001b[32m━━━━━━━━━━━━━━━━━━━━\u001b[0m\u001b[37m\u001b[0m \u001b[1m291s\u001b[0m 1s/step - accuracy: 0.9980 - dice_coefficient: 0.4934 - loss: 0.5066 - val_accuracy: 0.9985 - val_dice_coefficient: 0.3982 - val_loss: 0.6018\n",
            "Epoch 15/25\n",
            "\u001b[1m200/200\u001b[0m \u001b[32m━━━━━━━━━━━━━━━━━━━━\u001b[0m\u001b[37m\u001b[0m \u001b[1m291s\u001b[0m 1s/step - accuracy: 0.9982 - dice_coefficient: 0.5345 - loss: 0.4655 - val_accuracy: 0.9986 - val_dice_coefficient: 0.3956 - val_loss: 0.6044\n",
            "Epoch 16/25\n",
            "\u001b[1m200/200\u001b[0m \u001b[32m━━━━━━━━━━━━━━━━━━━━\u001b[0m\u001b[37m\u001b[0m \u001b[1m0s\u001b[0m 1s/step - accuracy: 0.9983 - dice_coefficient: 0.5720 - loss: 0.4280"
          ]
        },
        {
          "output_type": "stream",
          "name": "stderr",
          "text": [
            "WARNING:absl:You are saving your model as an HDF5 file via `model.save()` or `keras.saving.save_model(model)`. This file format is considered legacy. We recommend using instead the native Keras format, e.g. `model.save('my_model.keras')` or `keras.saving.save_model(model, 'my_model.keras')`. \n"
          ]
        },
        {
          "output_type": "stream",
          "name": "stdout",
          "text": [
            "\b\b\b\b\b\b\b\b\b\b\b\b\b\b\b\b\b\b\b\b\b\b\b\b\b\b\b\b\b\b\b\b\b\b\b\b\b\b\b\b\b\b\b\b\b\b\b\b\b\b\b\b\b\b\b\b\b\b\b\b\b\b\b\b\b\b\b\b\b\b\b\b\b\b\b\b\b\b\b\b\b\b\b\b\b\b\b\b\b\b\b\b\b\b\b\b\b\b\b\b\r\u001b[1m200/200\u001b[0m \u001b[32m━━━━━━━━━━━━━━━━━━━━\u001b[0m\u001b[37m\u001b[0m \u001b[1m291s\u001b[0m 1s/step - accuracy: 0.9983 - dice_coefficient: 0.5719 - loss: 0.4281 - val_accuracy: 0.9987 - val_dice_coefficient: 0.4230 - val_loss: 0.5770\n",
            "Epoch 17/25\n",
            "\u001b[1m200/200\u001b[0m \u001b[32m━━━━━━━━━━━━━━━━━━━━\u001b[0m\u001b[37m\u001b[0m \u001b[1m0s\u001b[0m 1s/step - accuracy: 0.9985 - dice_coefficient: 0.6104 - loss: 0.3896"
          ]
        },
        {
          "output_type": "stream",
          "name": "stderr",
          "text": [
            "WARNING:absl:You are saving your model as an HDF5 file via `model.save()` or `keras.saving.save_model(model)`. This file format is considered legacy. We recommend using instead the native Keras format, e.g. `model.save('my_model.keras')` or `keras.saving.save_model(model, 'my_model.keras')`. \n"
          ]
        },
        {
          "output_type": "stream",
          "name": "stdout",
          "text": [
            "\b\b\b\b\b\b\b\b\b\b\b\b\b\b\b\b\b\b\b\b\b\b\b\b\b\b\b\b\b\b\b\b\b\b\b\b\b\b\b\b\b\b\b\b\b\b\b\b\b\b\b\b\b\b\b\b\b\b\b\b\b\b\b\b\b\b\b\b\b\b\b\b\b\b\b\b\b\b\b\b\b\b\b\b\b\b\b\b\b\b\b\b\b\b\b\b\b\b\b\b\r\u001b[1m200/200\u001b[0m \u001b[32m━━━━━━━━━━━━━━━━━━━━\u001b[0m\u001b[37m\u001b[0m \u001b[1m290s\u001b[0m 1s/step - accuracy: 0.9985 - dice_coefficient: 0.6102 - loss: 0.3898 - val_accuracy: 0.9987 - val_dice_coefficient: 0.4272 - val_loss: 0.5728\n",
            "Epoch 18/25\n",
            "\u001b[1m200/200\u001b[0m \u001b[32m━━━━━━━━━━━━━━━━━━━━\u001b[0m\u001b[37m\u001b[0m \u001b[1m0s\u001b[0m 1s/step - accuracy: 0.9980 - dice_coefficient: 0.5903 - loss: 0.4097"
          ]
        },
        {
          "output_type": "stream",
          "name": "stderr",
          "text": [
            "WARNING:absl:You are saving your model as an HDF5 file via `model.save()` or `keras.saving.save_model(model)`. This file format is considered legacy. We recommend using instead the native Keras format, e.g. `model.save('my_model.keras')` or `keras.saving.save_model(model, 'my_model.keras')`. \n"
          ]
        },
        {
          "output_type": "stream",
          "name": "stdout",
          "text": [
            "\b\b\b\b\b\b\b\b\b\b\b\b\b\b\b\b\b\b\b\b\b\b\b\b\b\b\b\b\b\b\b\b\b\b\b\b\b\b\b\b\b\b\b\b\b\b\b\b\b\b\b\b\b\b\b\b\b\b\b\b\b\b\b\b\b\b\b\b\b\b\b\b\b\b\b\b\b\b\b\b\b\b\b\b\b\b\b\b\b\b\b\b\b\b\b\b\b\b\b\b\r\u001b[1m200/200\u001b[0m \u001b[32m━━━━━━━━━━━━━━━━━━━━\u001b[0m\u001b[37m\u001b[0m \u001b[1m295s\u001b[0m 1s/step - accuracy: 0.9980 - dice_coefficient: 0.5904 - loss: 0.4096 - val_accuracy: 0.9984 - val_dice_coefficient: 0.4639 - val_loss: 0.5361\n",
            "Epoch 19/25\n",
            "\u001b[1m200/200\u001b[0m \u001b[32m━━━━━━━━━━━━━━━━━━━━\u001b[0m\u001b[37m\u001b[0m \u001b[1m0s\u001b[0m 1s/step - accuracy: 0.9983 - dice_coefficient: 0.6324 - loss: 0.3676"
          ]
        },
        {
          "output_type": "stream",
          "name": "stderr",
          "text": [
            "WARNING:absl:You are saving your model as an HDF5 file via `model.save()` or `keras.saving.save_model(model)`. This file format is considered legacy. We recommend using instead the native Keras format, e.g. `model.save('my_model.keras')` or `keras.saving.save_model(model, 'my_model.keras')`. \n"
          ]
        },
        {
          "output_type": "stream",
          "name": "stdout",
          "text": [
            "\b\b\b\b\b\b\b\b\b\b\b\b\b\b\b\b\b\b\b\b\b\b\b\b\b\b\b\b\b\b\b\b\b\b\b\b\b\b\b\b\b\b\b\b\b\b\b\b\b\b\b\b\b\b\b\b\b\b\b\b\b\b\b\b\b\b\b\b\b\b\b\b\b\b\b\b\b\b\b\b\b\b\b\b\b\b\b\b\b\b\b\b\b\b\b\b\b\b\b\b\r\u001b[1m200/200\u001b[0m \u001b[32m━━━━━━━━━━━━━━━━━━━━\u001b[0m\u001b[37m\u001b[0m \u001b[1m293s\u001b[0m 1s/step - accuracy: 0.9983 - dice_coefficient: 0.6323 - loss: 0.3677 - val_accuracy: 0.9988 - val_dice_coefficient: 0.4944 - val_loss: 0.5056\n",
            "Epoch 20/25\n",
            "\u001b[1m200/200\u001b[0m \u001b[32m━━━━━━━━━━━━━━━━━━━━\u001b[0m\u001b[37m\u001b[0m \u001b[1m287s\u001b[0m 1s/step - accuracy: 0.9982 - dice_coefficient: 0.6548 - loss: 0.3452 - val_accuracy: 0.9981 - val_dice_coefficient: 0.4759 - val_loss: 0.5241\n",
            "Epoch 21/25\n",
            "\u001b[1m200/200\u001b[0m \u001b[32m━━━━━━━━━━━━━━━━━━━━\u001b[0m\u001b[37m\u001b[0m \u001b[1m0s\u001b[0m 1s/step - accuracy: 0.9988 - dice_coefficient: 0.6403 - loss: 0.3597"
          ]
        },
        {
          "output_type": "stream",
          "name": "stderr",
          "text": [
            "WARNING:absl:You are saving your model as an HDF5 file via `model.save()` or `keras.saving.save_model(model)`. This file format is considered legacy. We recommend using instead the native Keras format, e.g. `model.save('my_model.keras')` or `keras.saving.save_model(model, 'my_model.keras')`. \n"
          ]
        },
        {
          "output_type": "stream",
          "name": "stdout",
          "text": [
            "\b\b\b\b\b\b\b\b\b\b\b\b\b\b\b\b\b\b\b\b\b\b\b\b\b\b\b\b\b\b\b\b\b\b\b\b\b\b\b\b\b\b\b\b\b\b\b\b\b\b\b\b\b\b\b\b\b\b\b\b\b\b\b\b\b\b\b\b\b\b\b\b\b\b\b\b\b\b\b\b\b\b\b\b\b\b\b\b\b\b\b\b\b\b\b\b\b\b\b\b\r\u001b[1m200/200\u001b[0m \u001b[32m━━━━━━━━━━━━━━━━━━━━\u001b[0m\u001b[37m\u001b[0m \u001b[1m293s\u001b[0m 1s/step - accuracy: 0.9988 - dice_coefficient: 0.6404 - loss: 0.3596 - val_accuracy: 0.9988 - val_dice_coefficient: 0.5206 - val_loss: 0.4794\n",
            "Epoch 22/25\n",
            "\u001b[1m200/200\u001b[0m \u001b[32m━━━━━━━━━━━━━━━━━━━━\u001b[0m\u001b[37m\u001b[0m \u001b[1m297s\u001b[0m 1s/step - accuracy: 0.9984 - dice_coefficient: 0.6903 - loss: 0.3097 - val_accuracy: 0.9982 - val_dice_coefficient: 0.4855 - val_loss: 0.5145\n",
            "Epoch 23/25\n",
            "\u001b[1m200/200\u001b[0m \u001b[32m━━━━━━━━━━━━━━━━━━━━\u001b[0m\u001b[37m\u001b[0m \u001b[1m0s\u001b[0m 1s/step - accuracy: 0.9986 - dice_coefficient: 0.6300 - loss: 0.3700"
          ]
        },
        {
          "output_type": "stream",
          "name": "stderr",
          "text": [
            "WARNING:absl:You are saving your model as an HDF5 file via `model.save()` or `keras.saving.save_model(model)`. This file format is considered legacy. We recommend using instead the native Keras format, e.g. `model.save('my_model.keras')` or `keras.saving.save_model(model, 'my_model.keras')`. \n"
          ]
        },
        {
          "output_type": "stream",
          "name": "stdout",
          "text": [
            "\b\b\b\b\b\b\b\b\b\b\b\b\b\b\b\b\b\b\b\b\b\b\b\b\b\b\b\b\b\b\b\b\b\b\b\b\b\b\b\b\b\b\b\b\b\b\b\b\b\b\b\b\b\b\b\b\b\b\b\b\b\b\b\b\b\b\b\b\b\b\b\b\b\b\b\b\b\b\b\b\b\b\b\b\b\b\b\b\b\b\b\b\b\b\b\b\b\b\b\b\r\u001b[1m200/200\u001b[0m \u001b[32m━━━━━━━━━━━━━━━━━━━━\u001b[0m\u001b[37m\u001b[0m \u001b[1m299s\u001b[0m 2s/step - accuracy: 0.9986 - dice_coefficient: 0.6302 - loss: 0.3698 - val_accuracy: 0.9988 - val_dice_coefficient: 0.5358 - val_loss: 0.4642\n",
            "Epoch 24/25\n",
            "\u001b[1m200/200\u001b[0m \u001b[32m━━━━━━━━━━━━━━━━━━━━\u001b[0m\u001b[37m\u001b[0m \u001b[1m0s\u001b[0m 1s/step - accuracy: 0.9985 - dice_coefficient: 0.7037 - loss: 0.2963"
          ]
        },
        {
          "output_type": "stream",
          "name": "stderr",
          "text": [
            "WARNING:absl:You are saving your model as an HDF5 file via `model.save()` or `keras.saving.save_model(model)`. This file format is considered legacy. We recommend using instead the native Keras format, e.g. `model.save('my_model.keras')` or `keras.saving.save_model(model, 'my_model.keras')`. \n"
          ]
        },
        {
          "output_type": "stream",
          "name": "stdout",
          "text": [
            "\b\b\b\b\b\b\b\b\b\b\b\b\b\b\b\b\b\b\b\b\b\b\b\b\b\b\b\b\b\b\b\b\b\b\b\b\b\b\b\b\b\b\b\b\b\b\b\b\b\b\b\b\b\b\b\b\b\b\b\b\b\b\b\b\b\b\b\b\b\b\b\b\b\b\b\b\b\b\b\b\b\b\b\b\b\b\b\b\b\b\b\b\b\b\b\b\b\b\b\b\r\u001b[1m200/200\u001b[0m \u001b[32m━━━━━━━━━━━━━━━━━━━━\u001b[0m\u001b[37m\u001b[0m \u001b[1m296s\u001b[0m 1s/step - accuracy: 0.9985 - dice_coefficient: 0.7036 - loss: 0.2964 - val_accuracy: 0.9988 - val_dice_coefficient: 0.5604 - val_loss: 0.4396\n",
            "Epoch 25/25\n",
            "\u001b[1m200/200\u001b[0m \u001b[32m━━━━━━━━━━━━━━━━━━━━\u001b[0m\u001b[37m\u001b[0m \u001b[1m291s\u001b[0m 1s/step - accuracy: 0.9984 - dice_coefficient: 0.7089 - loss: 0.2911 - val_accuracy: 0.9979 - val_dice_coefficient: 0.4909 - val_loss: 0.5091\n",
            "Finished training Model 1. Best weights saved to /content/drive/MyDrive/isles22_resunet_model_0.h5\n",
            "\n",
            "--- Training Model 2/3 ---\n",
            "Epoch 1/25\n"
          ]
        },
        {
          "output_type": "stream",
          "name": "stderr",
          "text": [
            "/usr/local/lib/python3.11/dist-packages/keras/src/models/functional.py:237: UserWarning: The structure of `inputs` doesn't match the expected structure.\n",
            "Expected: ['keras_tensor_106']\n",
            "Received: inputs=Tensor(shape=(None, 96, 96, 96, 3))\n",
            "  warnings.warn(msg)\n"
          ]
        },
        {
          "output_type": "stream",
          "name": "stdout",
          "text": [
            "\u001b[1m200/200\u001b[0m \u001b[32m━━━━━━━━━━━━━━━━━━━━\u001b[0m\u001b[37m\u001b[0m \u001b[1m0s\u001b[0m 1s/step - accuracy: 0.7024 - dice_coefficient: 0.0157 - loss: 0.9843"
          ]
        },
        {
          "output_type": "stream",
          "name": "stderr",
          "text": [
            "/usr/local/lib/python3.11/dist-packages/keras/src/models/functional.py:237: UserWarning: The structure of `inputs` doesn't match the expected structure.\n",
            "Expected: ['keras_tensor_106']\n",
            "Received: inputs=Tensor(shape=(None, 96, 96, 96, 3))\n",
            "  warnings.warn(msg)\n",
            "WARNING:absl:You are saving your model as an HDF5 file via `model.save()` or `keras.saving.save_model(model)`. This file format is considered legacy. We recommend using instead the native Keras format, e.g. `model.save('my_model.keras')` or `keras.saving.save_model(model, 'my_model.keras')`. \n"
          ]
        },
        {
          "output_type": "stream",
          "name": "stdout",
          "text": [
            "\b\b\b\b\b\b\b\b\b\b\b\b\b\b\b\b\b\b\b\b\b\b\b\b\b\b\b\b\b\b\b\b\b\b\b\b\b\b\b\b\b\b\b\b\b\b\b\b\b\b\b\b\b\b\b\b\b\b\b\b\b\b\b\b\b\b\b\b\b\b\b\b\b\b\b\b\b\b\b\b\b\b\b\b\b\b\b\b\b\b\b\b\b\b\b\b\b\b\b\b\r\u001b[1m200/200\u001b[0m \u001b[32m━━━━━━━━━━━━━━━━━━━━\u001b[0m\u001b[37m\u001b[0m \u001b[1m319s\u001b[0m 2s/step - accuracy: 0.7029 - dice_coefficient: 0.0157 - loss: 0.9843 - val_accuracy: 0.8691 - val_dice_coefficient: 0.0177 - val_loss: 0.9823\n",
            "Epoch 2/25\n",
            "\u001b[1m200/200\u001b[0m \u001b[32m━━━━━━━━━━━━━━━━━━━━\u001b[0m\u001b[37m\u001b[0m \u001b[1m0s\u001b[0m 1s/step - accuracy: 0.9290 - dice_coefficient: 0.0411 - loss: 0.9589"
          ]
        },
        {
          "output_type": "stream",
          "name": "stderr",
          "text": [
            "WARNING:absl:You are saving your model as an HDF5 file via `model.save()` or `keras.saving.save_model(model)`. This file format is considered legacy. We recommend using instead the native Keras format, e.g. `model.save('my_model.keras')` or `keras.saving.save_model(model, 'my_model.keras')`. \n"
          ]
        },
        {
          "output_type": "stream",
          "name": "stdout",
          "text": [
            "\b\b\b\b\b\b\b\b\b\b\b\b\b\b\b\b\b\b\b\b\b\b\b\b\b\b\b\b\b\b\b\b\b\b\b\b\b\b\b\b\b\b\b\b\b\b\b\b\b\b\b\b\b\b\b\b\b\b\b\b\b\b\b\b\b\b\b\b\b\b\b\b\b\b\b\b\b\b\b\b\b\b\b\b\b\b\b\b\b\b\b\b\b\b\b\b\b\b\b\b\r\u001b[1m200/200\u001b[0m \u001b[32m━━━━━━━━━━━━━━━━━━━━\u001b[0m\u001b[37m\u001b[0m \u001b[1m301s\u001b[0m 2s/step - accuracy: 0.9291 - dice_coefficient: 0.0410 - loss: 0.9590 - val_accuracy: 0.9489 - val_dice_coefficient: 0.0238 - val_loss: 0.9762\n",
            "Epoch 3/25\n",
            "\u001b[1m200/200\u001b[0m \u001b[32m━━━━━━━━━━━━━━━━━━━━\u001b[0m\u001b[37m\u001b[0m \u001b[1m296s\u001b[0m 1s/step - accuracy: 0.9537 - dice_coefficient: 0.0282 - loss: 0.9718 - val_accuracy: 0.8527 - val_dice_coefficient: 0.0210 - val_loss: 0.9790\n",
            "Epoch 4/25\n",
            "\u001b[1m200/200\u001b[0m \u001b[32m━━━━━━━━━━━━━━━━━━━━\u001b[0m\u001b[37m\u001b[0m \u001b[1m0s\u001b[0m 1s/step - accuracy: 0.9560 - dice_coefficient: 0.0445 - loss: 0.9555"
          ]
        },
        {
          "output_type": "stream",
          "name": "stderr",
          "text": [
            "WARNING:absl:You are saving your model as an HDF5 file via `model.save()` or `keras.saving.save_model(model)`. This file format is considered legacy. We recommend using instead the native Keras format, e.g. `model.save('my_model.keras')` or `keras.saving.save_model(model, 'my_model.keras')`. \n"
          ]
        },
        {
          "output_type": "stream",
          "name": "stdout",
          "text": [
            "\b\b\b\b\b\b\b\b\b\b\b\b\b\b\b\b\b\b\b\b\b\b\b\b\b\b\b\b\b\b\b\b\b\b\b\b\b\b\b\b\b\b\b\b\b\b\b\b\b\b\b\b\b\b\b\b\b\b\b\b\b\b\b\b\b\b\b\b\b\b\b\b\b\b\b\b\b\b\b\b\b\b\b\b\b\b\b\b\b\b\b\b\b\b\b\b\b\b\b\b\r\u001b[1m200/200\u001b[0m \u001b[32m━━━━━━━━━━━━━━━━━━━━\u001b[0m\u001b[37m\u001b[0m \u001b[1m293s\u001b[0m 1s/step - accuracy: 0.9560 - dice_coefficient: 0.0445 - loss: 0.9555 - val_accuracy: 0.9709 - val_dice_coefficient: 0.0347 - val_loss: 0.9653\n",
            "Epoch 5/25\n",
            "\u001b[1m200/200\u001b[0m \u001b[32m━━━━━━━━━━━━━━━━━━━━\u001b[0m\u001b[37m\u001b[0m \u001b[1m296s\u001b[0m 1s/step - accuracy: 0.9697 - dice_coefficient: 0.0456 - loss: 0.9544 - val_accuracy: 0.9063 - val_dice_coefficient: 0.0315 - val_loss: 0.9685\n",
            "Epoch 6/25\n",
            "\u001b[1m200/200\u001b[0m \u001b[32m━━━━━━━━━━━━━━━━━━━━\u001b[0m\u001b[37m\u001b[0m \u001b[1m0s\u001b[0m 1s/step - accuracy: 0.9702 - dice_coefficient: 0.0469 - loss: 0.9531"
          ]
        },
        {
          "output_type": "stream",
          "name": "stderr",
          "text": [
            "WARNING:absl:You are saving your model as an HDF5 file via `model.save()` or `keras.saving.save_model(model)`. This file format is considered legacy. We recommend using instead the native Keras format, e.g. `model.save('my_model.keras')` or `keras.saving.save_model(model, 'my_model.keras')`. \n"
          ]
        },
        {
          "output_type": "stream",
          "name": "stdout",
          "text": [
            "\b\b\b\b\b\b\b\b\b\b\b\b\b\b\b\b\b\b\b\b\b\b\b\b\b\b\b\b\b\b\b\b\b\b\b\b\b\b\b\b\b\b\b\b\b\b\b\b\b\b\b\b\b\b\b\b\b\b\b\b\b\b\b\b\b\b\b\b\b\b\b\b\b\b\b\b\b\b\b\b\b\b\b\b\b\b\b\b\b\b\b\b\b\b\b\b\b\b\b\b\r\u001b[1m200/200\u001b[0m \u001b[32m━━━━━━━━━━━━━━━━━━━━\u001b[0m\u001b[37m\u001b[0m \u001b[1m298s\u001b[0m 1s/step - accuracy: 0.9702 - dice_coefficient: 0.0470 - loss: 0.9530 - val_accuracy: 0.9891 - val_dice_coefficient: 0.0464 - val_loss: 0.9536\n",
            "Epoch 7/25\n",
            "\u001b[1m200/200\u001b[0m \u001b[32m━━━━━━━━━━━━━━━━━━━━\u001b[0m\u001b[37m\u001b[0m \u001b[1m0s\u001b[0m 1s/step - accuracy: 0.9815 - dice_coefficient: 0.0718 - loss: 0.9282"
          ]
        },
        {
          "output_type": "stream",
          "name": "stderr",
          "text": [
            "WARNING:absl:You are saving your model as an HDF5 file via `model.save()` or `keras.saving.save_model(model)`. This file format is considered legacy. We recommend using instead the native Keras format, e.g. `model.save('my_model.keras')` or `keras.saving.save_model(model, 'my_model.keras')`. \n"
          ]
        },
        {
          "output_type": "stream",
          "name": "stdout",
          "text": [
            "\b\b\b\b\b\b\b\b\b\b\b\b\b\b\b\b\b\b\b\b\b\b\b\b\b\b\b\b\b\b\b\b\b\b\b\b\b\b\b\b\b\b\b\b\b\b\b\b\b\b\b\b\b\b\b\b\b\b\b\b\b\b\b\b\b\b\b\b\b\b\b\b\b\b\b\b\b\b\b\b\b\b\b\b\b\b\b\b\b\b\b\b\b\b\b\b\b\b\b\b\r\u001b[1m200/200\u001b[0m \u001b[32m━━━━━━━━━━━━━━━━━━━━\u001b[0m\u001b[37m\u001b[0m \u001b[1m290s\u001b[0m 1s/step - accuracy: 0.9815 - dice_coefficient: 0.0718 - loss: 0.9282 - val_accuracy: 0.9914 - val_dice_coefficient: 0.0597 - val_loss: 0.9403\n",
            "Epoch 8/25\n",
            "\u001b[1m200/200\u001b[0m \u001b[32m━━━━━━━━━━━━━━━━━━━━\u001b[0m\u001b[37m\u001b[0m \u001b[1m288s\u001b[0m 1s/step - accuracy: 0.9853 - dice_coefficient: 0.0741 - loss: 0.9259 - val_accuracy: 0.9525 - val_dice_coefficient: 0.0538 - val_loss: 0.9462\n",
            "Epoch 9/25\n",
            "\u001b[1m200/200\u001b[0m \u001b[32m━━━━━━━━━━━━━━━━━━━━\u001b[0m\u001b[37m\u001b[0m \u001b[1m0s\u001b[0m 1s/step - accuracy: 0.9889 - dice_coefficient: 0.0848 - loss: 0.9152"
          ]
        },
        {
          "output_type": "stream",
          "name": "stderr",
          "text": [
            "WARNING:absl:You are saving your model as an HDF5 file via `model.save()` or `keras.saving.save_model(model)`. This file format is considered legacy. We recommend using instead the native Keras format, e.g. `model.save('my_model.keras')` or `keras.saving.save_model(model, 'my_model.keras')`. \n"
          ]
        },
        {
          "output_type": "stream",
          "name": "stdout",
          "text": [
            "\b\b\b\b\b\b\b\b\b\b\b\b\b\b\b\b\b\b\b\b\b\b\b\b\b\b\b\b\b\b\b\b\b\b\b\b\b\b\b\b\b\b\b\b\b\b\b\b\b\b\b\b\b\b\b\b\b\b\b\b\b\b\b\b\b\b\b\b\b\b\b\b\b\b\b\b\b\b\b\b\b\b\b\b\b\b\b\b\b\b\b\b\b\b\b\b\b\b\b\b\r\u001b[1m200/200\u001b[0m \u001b[32m━━━━━━━━━━━━━━━━━━━━\u001b[0m\u001b[37m\u001b[0m \u001b[1m295s\u001b[0m 1s/step - accuracy: 0.9889 - dice_coefficient: 0.0849 - loss: 0.9151 - val_accuracy: 0.9909 - val_dice_coefficient: 0.0828 - val_loss: 0.9172\n",
            "Epoch 10/25\n",
            "\u001b[1m200/200\u001b[0m \u001b[32m━━━━━━━━━━━━━━━━━━━━\u001b[0m\u001b[37m\u001b[0m \u001b[1m0s\u001b[0m 1s/step - accuracy: 0.9887 - dice_coefficient: 0.1297 - loss: 0.8703"
          ]
        },
        {
          "output_type": "stream",
          "name": "stderr",
          "text": [
            "WARNING:absl:You are saving your model as an HDF5 file via `model.save()` or `keras.saving.save_model(model)`. This file format is considered legacy. We recommend using instead the native Keras format, e.g. `model.save('my_model.keras')` or `keras.saving.save_model(model, 'my_model.keras')`. \n"
          ]
        },
        {
          "output_type": "stream",
          "name": "stdout",
          "text": [
            "\b\b\b\b\b\b\b\b\b\b\b\b\b\b\b\b\b\b\b\b\b\b\b\b\b\b\b\b\b\b\b\b\b\b\b\b\b\b\b\b\b\b\b\b\b\b\b\b\b\b\b\b\b\b\b\b\b\b\b\b\b\b\b\b\b\b\b\b\b\b\b\b\b\b\b\b\b\b\b\b\b\b\b\b\b\b\b\b\b\b\b\b\b\b\b\b\b\b\b\b\r\u001b[1m200/200\u001b[0m \u001b[32m━━━━━━━━━━━━━━━━━━━━\u001b[0m\u001b[37m\u001b[0m \u001b[1m295s\u001b[0m 1s/step - accuracy: 0.9887 - dice_coefficient: 0.1297 - loss: 0.8703 - val_accuracy: 0.9910 - val_dice_coefficient: 0.1041 - val_loss: 0.8959\n",
            "Epoch 11/25\n",
            "\u001b[1m200/200\u001b[0m \u001b[32m━━━━━━━━━━━━━━━━━━━━\u001b[0m\u001b[37m\u001b[0m \u001b[1m0s\u001b[0m 1s/step - accuracy: 0.9939 - dice_coefficient: 0.1453 - loss: 0.8547"
          ]
        },
        {
          "output_type": "stream",
          "name": "stderr",
          "text": [
            "WARNING:absl:You are saving your model as an HDF5 file via `model.save()` or `keras.saving.save_model(model)`. This file format is considered legacy. We recommend using instead the native Keras format, e.g. `model.save('my_model.keras')` or `keras.saving.save_model(model, 'my_model.keras')`. \n"
          ]
        },
        {
          "output_type": "stream",
          "name": "stdout",
          "text": [
            "\b\b\b\b\b\b\b\b\b\b\b\b\b\b\b\b\b\b\b\b\b\b\b\b\b\b\b\b\b\b\b\b\b\b\b\b\b\b\b\b\b\b\b\b\b\b\b\b\b\b\b\b\b\b\b\b\b\b\b\b\b\b\b\b\b\b\b\b\b\b\b\b\b\b\b\b\b\b\b\b\b\b\b\b\b\b\b\b\b\b\b\b\b\b\b\b\b\b\b\b\r\u001b[1m200/200\u001b[0m \u001b[32m━━━━━━━━━━━━━━━━━━━━\u001b[0m\u001b[37m\u001b[0m \u001b[1m294s\u001b[0m 1s/step - accuracy: 0.9939 - dice_coefficient: 0.1454 - loss: 0.8546 - val_accuracy: 0.9944 - val_dice_coefficient: 0.1307 - val_loss: 0.8693\n",
            "Epoch 12/25\n",
            "\u001b[1m200/200\u001b[0m \u001b[32m━━━━━━━━━━━━━━━━━━━━\u001b[0m\u001b[37m\u001b[0m \u001b[1m0s\u001b[0m 1s/step - accuracy: 0.9956 - dice_coefficient: 0.2142 - loss: 0.7858"
          ]
        },
        {
          "output_type": "stream",
          "name": "stderr",
          "text": [
            "WARNING:absl:You are saving your model as an HDF5 file via `model.save()` or `keras.saving.save_model(model)`. This file format is considered legacy. We recommend using instead the native Keras format, e.g. `model.save('my_model.keras')` or `keras.saving.save_model(model, 'my_model.keras')`. \n"
          ]
        },
        {
          "output_type": "stream",
          "name": "stdout",
          "text": [
            "\b\b\b\b\b\b\b\b\b\b\b\b\b\b\b\b\b\b\b\b\b\b\b\b\b\b\b\b\b\b\b\b\b\b\b\b\b\b\b\b\b\b\b\b\b\b\b\b\b\b\b\b\b\b\b\b\b\b\b\b\b\b\b\b\b\b\b\b\b\b\b\b\b\b\b\b\b\b\b\b\b\b\b\b\b\b\b\b\b\b\b\b\b\b\b\b\b\b\b\b\r\u001b[1m200/200\u001b[0m \u001b[32m━━━━━━━━━━━━━━━━━━━━\u001b[0m\u001b[37m\u001b[0m \u001b[1m295s\u001b[0m 1s/step - accuracy: 0.9956 - dice_coefficient: 0.2141 - loss: 0.7859 - val_accuracy: 0.9977 - val_dice_coefficient: 0.1618 - val_loss: 0.8382\n",
            "Epoch 13/25\n",
            "\u001b[1m200/200\u001b[0m \u001b[32m━━━━━━━━━━━━━━━━━━━━\u001b[0m\u001b[37m\u001b[0m \u001b[1m0s\u001b[0m 1s/step - accuracy: 0.9964 - dice_coefficient: 0.2234 - loss: 0.7766"
          ]
        },
        {
          "output_type": "stream",
          "name": "stderr",
          "text": [
            "WARNING:absl:You are saving your model as an HDF5 file via `model.save()` or `keras.saving.save_model(model)`. This file format is considered legacy. We recommend using instead the native Keras format, e.g. `model.save('my_model.keras')` or `keras.saving.save_model(model, 'my_model.keras')`. \n"
          ]
        },
        {
          "output_type": "stream",
          "name": "stdout",
          "text": [
            "\b\b\b\b\b\b\b\b\b\b\b\b\b\b\b\b\b\b\b\b\b\b\b\b\b\b\b\b\b\b\b\b\b\b\b\b\b\b\b\b\b\b\b\b\b\b\b\b\b\b\b\b\b\b\b\b\b\b\b\b\b\b\b\b\b\b\b\b\b\b\b\b\b\b\b\b\b\b\b\b\b\b\b\b\b\b\b\b\b\b\b\b\b\b\b\b\b\b\b\b\r\u001b[1m200/200\u001b[0m \u001b[32m━━━━━━━━━━━━━━━━━━━━\u001b[0m\u001b[37m\u001b[0m \u001b[1m290s\u001b[0m 1s/step - accuracy: 0.9964 - dice_coefficient: 0.2235 - loss: 0.7765 - val_accuracy: 0.9956 - val_dice_coefficient: 0.1895 - val_loss: 0.8105\n",
            "Epoch 14/25\n",
            "\u001b[1m200/200\u001b[0m \u001b[32m━━━━━━━━━━━━━━━━━━━━\u001b[0m\u001b[37m\u001b[0m \u001b[1m0s\u001b[0m 1s/step - accuracy: 0.9971 - dice_coefficient: 0.2787 - loss: 0.7213"
          ]
        },
        {
          "output_type": "stream",
          "name": "stderr",
          "text": [
            "WARNING:absl:You are saving your model as an HDF5 file via `model.save()` or `keras.saving.save_model(model)`. This file format is considered legacy. We recommend using instead the native Keras format, e.g. `model.save('my_model.keras')` or `keras.saving.save_model(model, 'my_model.keras')`. \n"
          ]
        },
        {
          "output_type": "stream",
          "name": "stdout",
          "text": [
            "\b\b\b\b\b\b\b\b\b\b\b\b\b\b\b\b\b\b\b\b\b\b\b\b\b\b\b\b\b\b\b\b\b\b\b\b\b\b\b\b\b\b\b\b\b\b\b\b\b\b\b\b\b\b\b\b\b\b\b\b\b\b\b\b\b\b\b\b\b\b\b\b\b\b\b\b\b\b\b\b\b\b\b\b\b\b\b\b\b\b\b\b\b\b\b\b\b\b\b\b\r\u001b[1m200/200\u001b[0m \u001b[32m━━━━━━━━━━━━━━━━━━━━\u001b[0m\u001b[37m\u001b[0m \u001b[1m289s\u001b[0m 1s/step - accuracy: 0.9971 - dice_coefficient: 0.2787 - loss: 0.7213 - val_accuracy: 0.9985 - val_dice_coefficient: 0.2373 - val_loss: 0.7627\n",
            "Epoch 15/25\n",
            "\u001b[1m200/200\u001b[0m \u001b[32m━━━━━━━━━━━━━━━━━━━━\u001b[0m\u001b[37m\u001b[0m \u001b[1m0s\u001b[0m 1s/step - accuracy: 0.9981 - dice_coefficient: 0.3462 - loss: 0.6538"
          ]
        },
        {
          "output_type": "stream",
          "name": "stderr",
          "text": [
            "WARNING:absl:You are saving your model as an HDF5 file via `model.save()` or `keras.saving.save_model(model)`. This file format is considered legacy. We recommend using instead the native Keras format, e.g. `model.save('my_model.keras')` or `keras.saving.save_model(model, 'my_model.keras')`. \n"
          ]
        },
        {
          "output_type": "stream",
          "name": "stdout",
          "text": [
            "\b\b\b\b\b\b\b\b\b\b\b\b\b\b\b\b\b\b\b\b\b\b\b\b\b\b\b\b\b\b\b\b\b\b\b\b\b\b\b\b\b\b\b\b\b\b\b\b\b\b\b\b\b\b\b\b\b\b\b\b\b\b\b\b\b\b\b\b\b\b\b\b\b\b\b\b\b\b\b\b\b\b\b\b\b\b\b\b\b\b\b\b\b\b\b\b\b\b\b\b\r\u001b[1m200/200\u001b[0m \u001b[32m━━━━━━━━━━━━━━━━━━━━\u001b[0m\u001b[37m\u001b[0m \u001b[1m293s\u001b[0m 1s/step - accuracy: 0.9981 - dice_coefficient: 0.3462 - loss: 0.6538 - val_accuracy: 0.9983 - val_dice_coefficient: 0.2860 - val_loss: 0.7140\n",
            "Epoch 16/25\n",
            "\u001b[1m200/200\u001b[0m \u001b[32m━━━━━━━━━━━━━━━━━━━━\u001b[0m\u001b[37m\u001b[0m \u001b[1m0s\u001b[0m 1s/step - accuracy: 0.9977 - dice_coefficient: 0.3952 - loss: 0.6048"
          ]
        },
        {
          "output_type": "stream",
          "name": "stderr",
          "text": [
            "WARNING:absl:You are saving your model as an HDF5 file via `model.save()` or `keras.saving.save_model(model)`. This file format is considered legacy. We recommend using instead the native Keras format, e.g. `model.save('my_model.keras')` or `keras.saving.save_model(model, 'my_model.keras')`. \n"
          ]
        },
        {
          "output_type": "stream",
          "name": "stdout",
          "text": [
            "\b\b\b\b\b\b\b\b\b\b\b\b\b\b\b\b\b\b\b\b\b\b\b\b\b\b\b\b\b\b\b\b\b\b\b\b\b\b\b\b\b\b\b\b\b\b\b\b\b\b\b\b\b\b\b\b\b\b\b\b\b\b\b\b\b\b\b\b\b\b\b\b\b\b\b\b\b\b\b\b\b\b\b\b\b\b\b\b\b\b\b\b\b\b\b\b\b\b\b\b\r\u001b[1m200/200\u001b[0m \u001b[32m━━━━━━━━━━━━━━━━━━━━\u001b[0m\u001b[37m\u001b[0m \u001b[1m290s\u001b[0m 1s/step - accuracy: 0.9977 - dice_coefficient: 0.3952 - loss: 0.6048 - val_accuracy: 0.9986 - val_dice_coefficient: 0.3167 - val_loss: 0.6833\n",
            "Epoch 17/25\n",
            "\u001b[1m200/200\u001b[0m \u001b[32m━━━━━━━━━━━━━━━━━━━━\u001b[0m\u001b[37m\u001b[0m \u001b[1m0s\u001b[0m 1s/step - accuracy: 0.9982 - dice_coefficient: 0.4364 - loss: 0.5636"
          ]
        },
        {
          "output_type": "stream",
          "name": "stderr",
          "text": [
            "WARNING:absl:You are saving your model as an HDF5 file via `model.save()` or `keras.saving.save_model(model)`. This file format is considered legacy. We recommend using instead the native Keras format, e.g. `model.save('my_model.keras')` or `keras.saving.save_model(model, 'my_model.keras')`. \n"
          ]
        },
        {
          "output_type": "stream",
          "name": "stdout",
          "text": [
            "\b\b\b\b\b\b\b\b\b\b\b\b\b\b\b\b\b\b\b\b\b\b\b\b\b\b\b\b\b\b\b\b\b\b\b\b\b\b\b\b\b\b\b\b\b\b\b\b\b\b\b\b\b\b\b\b\b\b\b\b\b\b\b\b\b\b\b\b\b\b\b\b\b\b\b\b\b\b\b\b\b\b\b\b\b\b\b\b\b\b\b\b\b\b\b\b\b\b\b\b\r\u001b[1m200/200\u001b[0m \u001b[32m━━━━━━━━━━━━━━━━━━━━\u001b[0m\u001b[37m\u001b[0m \u001b[1m287s\u001b[0m 1s/step - accuracy: 0.9982 - dice_coefficient: 0.4364 - loss: 0.5636 - val_accuracy: 0.9981 - val_dice_coefficient: 0.3309 - val_loss: 0.6691\n",
            "Epoch 18/25\n",
            "\u001b[1m200/200\u001b[0m \u001b[32m━━━━━━━━━━━━━━━━━━━━\u001b[0m\u001b[37m\u001b[0m \u001b[1m0s\u001b[0m 1s/step - accuracy: 0.9981 - dice_coefficient: 0.4542 - loss: 0.5458"
          ]
        },
        {
          "output_type": "stream",
          "name": "stderr",
          "text": [
            "WARNING:absl:You are saving your model as an HDF5 file via `model.save()` or `keras.saving.save_model(model)`. This file format is considered legacy. We recommend using instead the native Keras format, e.g. `model.save('my_model.keras')` or `keras.saving.save_model(model, 'my_model.keras')`. \n"
          ]
        },
        {
          "output_type": "stream",
          "name": "stdout",
          "text": [
            "\b\b\b\b\b\b\b\b\b\b\b\b\b\b\b\b\b\b\b\b\b\b\b\b\b\b\b\b\b\b\b\b\b\b\b\b\b\b\b\b\b\b\b\b\b\b\b\b\b\b\b\b\b\b\b\b\b\b\b\b\b\b\b\b\b\b\b\b\b\b\b\b\b\b\b\b\b\b\b\b\b\b\b\b\b\b\b\b\b\b\b\b\b\b\b\b\b\b\b\b\r\u001b[1m200/200\u001b[0m \u001b[32m━━━━━━━━━━━━━━━━━━━━\u001b[0m\u001b[37m\u001b[0m \u001b[1m292s\u001b[0m 1s/step - accuracy: 0.9981 - dice_coefficient: 0.4543 - loss: 0.5457 - val_accuracy: 0.9987 - val_dice_coefficient: 0.3808 - val_loss: 0.6192\n",
            "Epoch 19/25\n",
            "\u001b[1m200/200\u001b[0m \u001b[32m━━━━━━━━━━━━━━━━━━━━\u001b[0m\u001b[37m\u001b[0m \u001b[1m0s\u001b[0m 1s/step - accuracy: 0.9980 - dice_coefficient: 0.5323 - loss: 0.4677"
          ]
        },
        {
          "output_type": "stream",
          "name": "stderr",
          "text": [
            "WARNING:absl:You are saving your model as an HDF5 file via `model.save()` or `keras.saving.save_model(model)`. This file format is considered legacy. We recommend using instead the native Keras format, e.g. `model.save('my_model.keras')` or `keras.saving.save_model(model, 'my_model.keras')`. \n"
          ]
        },
        {
          "output_type": "stream",
          "name": "stdout",
          "text": [
            "\b\b\b\b\b\b\b\b\b\b\b\b\b\b\b\b\b\b\b\b\b\b\b\b\b\b\b\b\b\b\b\b\b\b\b\b\b\b\b\b\b\b\b\b\b\b\b\b\b\b\b\b\b\b\b\b\b\b\b\b\b\b\b\b\b\b\b\b\b\b\b\b\b\b\b\b\b\b\b\b\b\b\b\b\b\b\b\b\b\b\b\b\b\b\b\b\b\b\b\b\r\u001b[1m200/200\u001b[0m \u001b[32m━━━━━━━━━━━━━━━━━━━━\u001b[0m\u001b[37m\u001b[0m \u001b[1m291s\u001b[0m 1s/step - accuracy: 0.9980 - dice_coefficient: 0.5322 - loss: 0.4678 - val_accuracy: 0.9986 - val_dice_coefficient: 0.4127 - val_loss: 0.5873\n",
            "Epoch 20/25\n",
            "\u001b[1m200/200\u001b[0m \u001b[32m━━━━━━━━━━━━━━━━━━━━\u001b[0m\u001b[37m\u001b[0m \u001b[1m0s\u001b[0m 1s/step - accuracy: 0.9986 - dice_coefficient: 0.5380 - loss: 0.4620"
          ]
        },
        {
          "output_type": "stream",
          "name": "stderr",
          "text": [
            "WARNING:absl:You are saving your model as an HDF5 file via `model.save()` or `keras.saving.save_model(model)`. This file format is considered legacy. We recommend using instead the native Keras format, e.g. `model.save('my_model.keras')` or `keras.saving.save_model(model, 'my_model.keras')`. \n"
          ]
        },
        {
          "output_type": "stream",
          "name": "stdout",
          "text": [
            "\b\b\b\b\b\b\b\b\b\b\b\b\b\b\b\b\b\b\b\b\b\b\b\b\b\b\b\b\b\b\b\b\b\b\b\b\b\b\b\b\b\b\b\b\b\b\b\b\b\b\b\b\b\b\b\b\b\b\b\b\b\b\b\b\b\b\b\b\b\b\b\b\b\b\b\b\b\b\b\b\b\b\b\b\b\b\b\b\b\b\b\b\b\b\b\b\b\b\b\b\r\u001b[1m200/200\u001b[0m \u001b[32m━━━━━━━━━━━━━━━━━━━━\u001b[0m\u001b[37m\u001b[0m \u001b[1m292s\u001b[0m 1s/step - accuracy: 0.9986 - dice_coefficient: 0.5381 - loss: 0.4619 - val_accuracy: 0.9988 - val_dice_coefficient: 0.4466 - val_loss: 0.5534\n",
            "Epoch 21/25\n",
            "\u001b[1m200/200\u001b[0m \u001b[32m━━━━━━━━━━━━━━━━━━━━\u001b[0m\u001b[37m\u001b[0m \u001b[1m0s\u001b[0m 1s/step - accuracy: 0.9980 - dice_coefficient: 0.5539 - loss: 0.4461"
          ]
        },
        {
          "output_type": "stream",
          "name": "stderr",
          "text": [
            "WARNING:absl:You are saving your model as an HDF5 file via `model.save()` or `keras.saving.save_model(model)`. This file format is considered legacy. We recommend using instead the native Keras format, e.g. `model.save('my_model.keras')` or `keras.saving.save_model(model, 'my_model.keras')`. \n"
          ]
        },
        {
          "output_type": "stream",
          "name": "stdout",
          "text": [
            "\b\b\b\b\b\b\b\b\b\b\b\b\b\b\b\b\b\b\b\b\b\b\b\b\b\b\b\b\b\b\b\b\b\b\b\b\b\b\b\b\b\b\b\b\b\b\b\b\b\b\b\b\b\b\b\b\b\b\b\b\b\b\b\b\b\b\b\b\b\b\b\b\b\b\b\b\b\b\b\b\b\b\b\b\b\b\b\b\b\b\b\b\b\b\b\b\b\b\b\b\r\u001b[1m200/200\u001b[0m \u001b[32m━━━━━━━━━━━━━━━━━━━━\u001b[0m\u001b[37m\u001b[0m \u001b[1m291s\u001b[0m 1s/step - accuracy: 0.9980 - dice_coefficient: 0.5540 - loss: 0.4460 - val_accuracy: 0.9987 - val_dice_coefficient: 0.4557 - val_loss: 0.5443\n",
            "Epoch 22/25\n",
            "\u001b[1m200/200\u001b[0m \u001b[32m━━━━━━━━━━━━━━━━━━━━\u001b[0m\u001b[37m\u001b[0m \u001b[1m288s\u001b[0m 1s/step - accuracy: 0.9982 - dice_coefficient: 0.5860 - loss: 0.4140 - val_accuracy: 0.9988 - val_dice_coefficient: 0.4551 - val_loss: 0.5449\n",
            "Epoch 23/25\n",
            "\u001b[1m200/200\u001b[0m \u001b[32m━━━━━━━━━━━━━━━━━━━━\u001b[0m\u001b[37m\u001b[0m \u001b[1m0s\u001b[0m 1s/step - accuracy: 0.9987 - dice_coefficient: 0.6280 - loss: 0.3720"
          ]
        },
        {
          "output_type": "stream",
          "name": "stderr",
          "text": [
            "WARNING:absl:You are saving your model as an HDF5 file via `model.save()` or `keras.saving.save_model(model)`. This file format is considered legacy. We recommend using instead the native Keras format, e.g. `model.save('my_model.keras')` or `keras.saving.save_model(model, 'my_model.keras')`. \n"
          ]
        },
        {
          "output_type": "stream",
          "name": "stdout",
          "text": [
            "\b\b\b\b\b\b\b\b\b\b\b\b\b\b\b\b\b\b\b\b\b\b\b\b\b\b\b\b\b\b\b\b\b\b\b\b\b\b\b\b\b\b\b\b\b\b\b\b\b\b\b\b\b\b\b\b\b\b\b\b\b\b\b\b\b\b\b\b\b\b\b\b\b\b\b\b\b\b\b\b\b\b\b\b\b\b\b\b\b\b\b\b\b\b\b\b\b\b\b\b\r\u001b[1m200/200\u001b[0m \u001b[32m━━━━━━━━━━━━━━━━━━━━\u001b[0m\u001b[37m\u001b[0m \u001b[1m289s\u001b[0m 1s/step - accuracy: 0.9987 - dice_coefficient: 0.6280 - loss: 0.3720 - val_accuracy: 0.9988 - val_dice_coefficient: 0.4974 - val_loss: 0.5026\n",
            "Epoch 24/25\n",
            "\u001b[1m200/200\u001b[0m \u001b[32m━━━━━━━━━━━━━━━━━━━━\u001b[0m\u001b[37m\u001b[0m \u001b[1m0s\u001b[0m 1s/step - accuracy: 0.9987 - dice_coefficient: 0.6588 - loss: 0.3412"
          ]
        },
        {
          "output_type": "stream",
          "name": "stderr",
          "text": [
            "WARNING:absl:You are saving your model as an HDF5 file via `model.save()` or `keras.saving.save_model(model)`. This file format is considered legacy. We recommend using instead the native Keras format, e.g. `model.save('my_model.keras')` or `keras.saving.save_model(model, 'my_model.keras')`. \n"
          ]
        },
        {
          "output_type": "stream",
          "name": "stdout",
          "text": [
            "\b\b\b\b\b\b\b\b\b\b\b\b\b\b\b\b\b\b\b\b\b\b\b\b\b\b\b\b\b\b\b\b\b\b\b\b\b\b\b\b\b\b\b\b\b\b\b\b\b\b\b\b\b\b\b\b\b\b\b\b\b\b\b\b\b\b\b\b\b\b\b\b\b\b\b\b\b\b\b\b\b\b\b\b\b\b\b\b\b\b\b\b\b\b\b\b\b\b\b\b\r\u001b[1m200/200\u001b[0m \u001b[32m━━━━━━━━━━━━━━━━━━━━\u001b[0m\u001b[37m\u001b[0m \u001b[1m292s\u001b[0m 1s/step - accuracy: 0.9987 - dice_coefficient: 0.6587 - loss: 0.3413 - val_accuracy: 0.9989 - val_dice_coefficient: 0.5374 - val_loss: 0.4626\n",
            "Epoch 25/25\n",
            "\u001b[1m200/200\u001b[0m \u001b[32m━━━━━━━━━━━━━━━━━━━━\u001b[0m\u001b[37m\u001b[0m \u001b[1m288s\u001b[0m 1s/step - accuracy: 0.9981 - dice_coefficient: 0.6456 - loss: 0.3544 - val_accuracy: 0.9988 - val_dice_coefficient: 0.5355 - val_loss: 0.4645\n",
            "Finished training Model 2. Best weights saved to /content/drive/MyDrive/isles22_resunet_model_1.h5\n",
            "\n",
            "--- Training Model 3/3 ---\n",
            "Epoch 1/25\n"
          ]
        },
        {
          "output_type": "stream",
          "name": "stderr",
          "text": [
            "/usr/local/lib/python3.11/dist-packages/keras/src/models/functional.py:237: UserWarning: The structure of `inputs` doesn't match the expected structure.\n",
            "Expected: ['keras_tensor_159']\n",
            "Received: inputs=Tensor(shape=(None, 96, 96, 96, 3))\n",
            "  warnings.warn(msg)\n"
          ]
        },
        {
          "output_type": "stream",
          "name": "stdout",
          "text": [
            "\u001b[1m200/200\u001b[0m \u001b[32m━━━━━━━━━━━━━━━━━━━━\u001b[0m\u001b[37m\u001b[0m \u001b[1m0s\u001b[0m 1s/step - accuracy: 0.9304 - dice_coefficient: 0.0288 - loss: 0.9712"
          ]
        },
        {
          "output_type": "stream",
          "name": "stderr",
          "text": [
            "/usr/local/lib/python3.11/dist-packages/keras/src/models/functional.py:237: UserWarning: The structure of `inputs` doesn't match the expected structure.\n",
            "Expected: ['keras_tensor_159']\n",
            "Received: inputs=Tensor(shape=(None, 96, 96, 96, 3))\n",
            "  warnings.warn(msg)\n",
            "WARNING:absl:You are saving your model as an HDF5 file via `model.save()` or `keras.saving.save_model(model)`. This file format is considered legacy. We recommend using instead the native Keras format, e.g. `model.save('my_model.keras')` or `keras.saving.save_model(model, 'my_model.keras')`. \n"
          ]
        },
        {
          "output_type": "stream",
          "name": "stdout",
          "text": [
            "\b\b\b\b\b\b\b\b\b\b\b\b\b\b\b\b\b\b\b\b\b\b\b\b\b\b\b\b\b\b\b\b\b\b\b\b\b\b\b\b\b\b\b\b\b\b\b\b\b\b\b\b\b\b\b\b\b\b\b\b\b\b\b\b\b\b\b\b\b\b\b\b\b\b\b\b\b\b\b\b\b\b\b\b\b\b\b\b\b\b\b\b\b\b\b\b\b\b\b\b\r\u001b[1m200/200\u001b[0m \u001b[32m━━━━━━━━━━━━━━━━━━━━\u001b[0m\u001b[37m\u001b[0m \u001b[1m307s\u001b[0m 1s/step - accuracy: 0.9304 - dice_coefficient: 0.0289 - loss: 0.9711 - val_accuracy: 0.9930 - val_dice_coefficient: 0.0363 - val_loss: 0.9637\n",
            "Epoch 2/25\n",
            "\u001b[1m200/200\u001b[0m \u001b[32m━━━━━━━━━━━━━━━━━━━━\u001b[0m\u001b[37m\u001b[0m \u001b[1m0s\u001b[0m 1s/step - accuracy: 0.9873 - dice_coefficient: 0.1012 - loss: 0.8988"
          ]
        },
        {
          "output_type": "stream",
          "name": "stderr",
          "text": [
            "WARNING:absl:You are saving your model as an HDF5 file via `model.save()` or `keras.saving.save_model(model)`. This file format is considered legacy. We recommend using instead the native Keras format, e.g. `model.save('my_model.keras')` or `keras.saving.save_model(model, 'my_model.keras')`. \n"
          ]
        },
        {
          "output_type": "stream",
          "name": "stdout",
          "text": [
            "\b\b\b\b\b\b\b\b\b\b\b\b\b\b\b\b\b\b\b\b\b\b\b\b\b\b\b\b\b\b\b\b\b\b\b\b\b\b\b\b\b\b\b\b\b\b\b\b\b\b\b\b\b\b\b\b\b\b\b\b\b\b\b\b\b\b\b\b\b\b\b\b\b\b\b\b\b\b\b\b\b\b\b\b\b\b\b\b\b\b\b\b\b\b\b\b\b\b\b\b\r\u001b[1m200/200\u001b[0m \u001b[32m━━━━━━━━━━━━━━━━━━━━\u001b[0m\u001b[37m\u001b[0m \u001b[1m293s\u001b[0m 1s/step - accuracy: 0.9873 - dice_coefficient: 0.1013 - loss: 0.8987 - val_accuracy: 0.9617 - val_dice_coefficient: 0.0737 - val_loss: 0.9263\n",
            "Epoch 3/25\n",
            "\u001b[1m200/200\u001b[0m \u001b[32m━━━━━━━━━━━━━━━━━━━━\u001b[0m\u001b[37m\u001b[0m \u001b[1m0s\u001b[0m 1s/step - accuracy: 0.9941 - dice_coefficient: 0.1628 - loss: 0.8372"
          ]
        },
        {
          "output_type": "stream",
          "name": "stderr",
          "text": [
            "WARNING:absl:You are saving your model as an HDF5 file via `model.save()` or `keras.saving.save_model(model)`. This file format is considered legacy. We recommend using instead the native Keras format, e.g. `model.save('my_model.keras')` or `keras.saving.save_model(model, 'my_model.keras')`. \n"
          ]
        },
        {
          "output_type": "stream",
          "name": "stdout",
          "text": [
            "\b\b\b\b\b\b\b\b\b\b\b\b\b\b\b\b\b\b\b\b\b\b\b\b\b\b\b\b\b\b\b\b\b\b\b\b\b\b\b\b\b\b\b\b\b\b\b\b\b\b\b\b\b\b\b\b\b\b\b\b\b\b\b\b\b\b\b\b\b\b\b\b\b\b\b\b\b\b\b\b\b\b\b\b\b\b\b\b\b\b\b\b\b\b\b\b\b\b\b\b\r\u001b[1m200/200\u001b[0m \u001b[32m━━━━━━━━━━━━━━━━━━━━\u001b[0m\u001b[37m\u001b[0m \u001b[1m294s\u001b[0m 1s/step - accuracy: 0.9941 - dice_coefficient: 0.1629 - loss: 0.8371 - val_accuracy: 0.9976 - val_dice_coefficient: 0.1328 - val_loss: 0.8672\n",
            "Epoch 4/25\n",
            "\u001b[1m200/200\u001b[0m \u001b[32m━━━━━━━━━━━━━━━━━━━━\u001b[0m\u001b[37m\u001b[0m \u001b[1m0s\u001b[0m 1s/step - accuracy: 0.9959 - dice_coefficient: 0.2272 - loss: 0.7728"
          ]
        },
        {
          "output_type": "stream",
          "name": "stderr",
          "text": [
            "WARNING:absl:You are saving your model as an HDF5 file via `model.save()` or `keras.saving.save_model(model)`. This file format is considered legacy. We recommend using instead the native Keras format, e.g. `model.save('my_model.keras')` or `keras.saving.save_model(model, 'my_model.keras')`. \n"
          ]
        },
        {
          "output_type": "stream",
          "name": "stdout",
          "text": [
            "\b\b\b\b\b\b\b\b\b\b\b\b\b\b\b\b\b\b\b\b\b\b\b\b\b\b\b\b\b\b\b\b\b\b\b\b\b\b\b\b\b\b\b\b\b\b\b\b\b\b\b\b\b\b\b\b\b\b\b\b\b\b\b\b\b\b\b\b\b\b\b\b\b\b\b\b\b\b\b\b\b\b\b\b\b\b\b\b\b\b\b\b\b\b\b\b\b\b\b\b\r\u001b[1m200/200\u001b[0m \u001b[32m━━━━━━━━━━━━━━━━━━━━\u001b[0m\u001b[37m\u001b[0m \u001b[1m292s\u001b[0m 1s/step - accuracy: 0.9959 - dice_coefficient: 0.2272 - loss: 0.7728 - val_accuracy: 0.9982 - val_dice_coefficient: 0.1838 - val_loss: 0.8162\n",
            "Epoch 5/25\n",
            "\u001b[1m200/200\u001b[0m \u001b[32m━━━━━━━━━━━━━━━━━━━━\u001b[0m\u001b[37m\u001b[0m \u001b[1m0s\u001b[0m 1s/step - accuracy: 0.9969 - dice_coefficient: 0.2834 - loss: 0.7166"
          ]
        },
        {
          "output_type": "stream",
          "name": "stderr",
          "text": [
            "WARNING:absl:You are saving your model as an HDF5 file via `model.save()` or `keras.saving.save_model(model)`. This file format is considered legacy. We recommend using instead the native Keras format, e.g. `model.save('my_model.keras')` or `keras.saving.save_model(model, 'my_model.keras')`. \n"
          ]
        },
        {
          "output_type": "stream",
          "name": "stdout",
          "text": [
            "\b\b\b\b\b\b\b\b\b\b\b\b\b\b\b\b\b\b\b\b\b\b\b\b\b\b\b\b\b\b\b\b\b\b\b\b\b\b\b\b\b\b\b\b\b\b\b\b\b\b\b\b\b\b\b\b\b\b\b\b\b\b\b\b\b\b\b\b\b\b\b\b\b\b\b\b\b\b\b\b\b\b\b\b\b\b\b\b\b\b\b\b\b\b\b\b\b\b\b\b\r\u001b[1m200/200\u001b[0m \u001b[32m━━━━━━━━━━━━━━━━━━━━\u001b[0m\u001b[37m\u001b[0m \u001b[1m287s\u001b[0m 1s/step - accuracy: 0.9969 - dice_coefficient: 0.2834 - loss: 0.7166 - val_accuracy: 0.9950 - val_dice_coefficient: 0.2217 - val_loss: 0.7783\n",
            "Epoch 6/25\n",
            "\u001b[1m200/200\u001b[0m \u001b[32m━━━━━━━━━━━━━━━━━━━━\u001b[0m\u001b[37m\u001b[0m \u001b[1m0s\u001b[0m 1s/step - accuracy: 0.9975 - dice_coefficient: 0.3680 - loss: 0.6320"
          ]
        },
        {
          "output_type": "stream",
          "name": "stderr",
          "text": [
            "WARNING:absl:You are saving your model as an HDF5 file via `model.save()` or `keras.saving.save_model(model)`. This file format is considered legacy. We recommend using instead the native Keras format, e.g. `model.save('my_model.keras')` or `keras.saving.save_model(model, 'my_model.keras')`. \n"
          ]
        },
        {
          "output_type": "stream",
          "name": "stdout",
          "text": [
            "\b\b\b\b\b\b\b\b\b\b\b\b\b\b\b\b\b\b\b\b\b\b\b\b\b\b\b\b\b\b\b\b\b\b\b\b\b\b\b\b\b\b\b\b\b\b\b\b\b\b\b\b\b\b\b\b\b\b\b\b\b\b\b\b\b\b\b\b\b\b\b\b\b\b\b\b\b\b\b\b\b\b\b\b\b\b\b\b\b\b\b\b\b\b\b\b\b\b\b\b\r\u001b[1m200/200\u001b[0m \u001b[32m━━━━━━━━━━━━━━━━━━━━\u001b[0m\u001b[37m\u001b[0m \u001b[1m291s\u001b[0m 1s/step - accuracy: 0.9975 - dice_coefficient: 0.3679 - loss: 0.6321 - val_accuracy: 0.9967 - val_dice_coefficient: 0.2701 - val_loss: 0.7299\n",
            "Epoch 7/25\n",
            "\u001b[1m200/200\u001b[0m \u001b[32m━━━━━━━━━━━━━━━━━━━━\u001b[0m\u001b[37m\u001b[0m \u001b[1m0s\u001b[0m 1s/step - accuracy: 0.9980 - dice_coefficient: 0.3665 - loss: 0.6335"
          ]
        },
        {
          "output_type": "stream",
          "name": "stderr",
          "text": [
            "WARNING:absl:You are saving your model as an HDF5 file via `model.save()` or `keras.saving.save_model(model)`. This file format is considered legacy. We recommend using instead the native Keras format, e.g. `model.save('my_model.keras')` or `keras.saving.save_model(model, 'my_model.keras')`. \n"
          ]
        },
        {
          "output_type": "stream",
          "name": "stdout",
          "text": [
            "\b\b\b\b\b\b\b\b\b\b\b\b\b\b\b\b\b\b\b\b\b\b\b\b\b\b\b\b\b\b\b\b\b\b\b\b\b\b\b\b\b\b\b\b\b\b\b\b\b\b\b\b\b\b\b\b\b\b\b\b\b\b\b\b\b\b\b\b\b\b\b\b\b\b\b\b\b\b\b\b\b\b\b\b\b\b\b\b\b\b\b\b\b\b\b\b\b\b\b\b\r\u001b[1m200/200\u001b[0m \u001b[32m━━━━━━━━━━━━━━━━━━━━\u001b[0m\u001b[37m\u001b[0m \u001b[1m290s\u001b[0m 1s/step - accuracy: 0.9980 - dice_coefficient: 0.3667 - loss: 0.6333 - val_accuracy: 0.9983 - val_dice_coefficient: 0.3370 - val_loss: 0.6630\n",
            "Epoch 8/25\n",
            "\u001b[1m200/200\u001b[0m \u001b[32m━━━━━━━━━━━━━━━━━━━━\u001b[0m\u001b[37m\u001b[0m \u001b[1m0s\u001b[0m 1s/step - accuracy: 0.9978 - dice_coefficient: 0.4247 - loss: 0.5753"
          ]
        },
        {
          "output_type": "stream",
          "name": "stderr",
          "text": [
            "WARNING:absl:You are saving your model as an HDF5 file via `model.save()` or `keras.saving.save_model(model)`. This file format is considered legacy. We recommend using instead the native Keras format, e.g. `model.save('my_model.keras')` or `keras.saving.save_model(model, 'my_model.keras')`. \n"
          ]
        },
        {
          "output_type": "stream",
          "name": "stdout",
          "text": [
            "\b\b\b\b\b\b\b\b\b\b\b\b\b\b\b\b\b\b\b\b\b\b\b\b\b\b\b\b\b\b\b\b\b\b\b\b\b\b\b\b\b\b\b\b\b\b\b\b\b\b\b\b\b\b\b\b\b\b\b\b\b\b\b\b\b\b\b\b\b\b\b\b\b\b\b\b\b\b\b\b\b\b\b\b\b\b\b\b\b\b\b\b\b\b\b\b\b\b\b\b\r\u001b[1m200/200\u001b[0m \u001b[32m━━━━━━━━━━━━━━━━━━━━\u001b[0m\u001b[37m\u001b[0m \u001b[1m291s\u001b[0m 1s/step - accuracy: 0.9978 - dice_coefficient: 0.4248 - loss: 0.5752 - val_accuracy: 0.9983 - val_dice_coefficient: 0.3782 - val_loss: 0.6218\n",
            "Epoch 9/25\n",
            "\u001b[1m200/200\u001b[0m \u001b[32m━━━━━━━━━━━━━━━━━━━━\u001b[0m\u001b[37m\u001b[0m \u001b[1m289s\u001b[0m 1s/step - accuracy: 0.9983 - dice_coefficient: 0.4828 - loss: 0.5172 - val_accuracy: 0.9976 - val_dice_coefficient: 0.3760 - val_loss: 0.6240\n",
            "Epoch 10/25\n",
            "\u001b[1m200/200\u001b[0m \u001b[32m━━━━━━━━━━━━━━━━━━━━\u001b[0m\u001b[37m\u001b[0m \u001b[1m0s\u001b[0m 1s/step - accuracy: 0.9981 - dice_coefficient: 0.5434 - loss: 0.4566"
          ]
        },
        {
          "output_type": "stream",
          "name": "stderr",
          "text": [
            "WARNING:absl:You are saving your model as an HDF5 file via `model.save()` or `keras.saving.save_model(model)`. This file format is considered legacy. We recommend using instead the native Keras format, e.g. `model.save('my_model.keras')` or `keras.saving.save_model(model, 'my_model.keras')`. \n"
          ]
        },
        {
          "output_type": "stream",
          "name": "stdout",
          "text": [
            "\b\b\b\b\b\b\b\b\b\b\b\b\b\b\b\b\b\b\b\b\b\b\b\b\b\b\b\b\b\b\b\b\b\b\b\b\b\b\b\b\b\b\b\b\b\b\b\b\b\b\b\b\b\b\b\b\b\b\b\b\b\b\b\b\b\b\b\b\b\b\b\b\b\b\b\b\b\b\b\b\b\b\b\b\b\b\b\b\b\b\b\b\b\b\b\b\b\b\b\b\r\u001b[1m200/200\u001b[0m \u001b[32m━━━━━━━━━━━━━━━━━━━━\u001b[0m\u001b[37m\u001b[0m \u001b[1m291s\u001b[0m 1s/step - accuracy: 0.9981 - dice_coefficient: 0.5434 - loss: 0.4566 - val_accuracy: 0.9970 - val_dice_coefficient: 0.3920 - val_loss: 0.6080\n",
            "Epoch 11/25\n",
            "\u001b[1m200/200\u001b[0m \u001b[32m━━━━━━━━━━━━━━━━━━━━\u001b[0m\u001b[37m\u001b[0m \u001b[1m0s\u001b[0m 1s/step - accuracy: 0.9986 - dice_coefficient: 0.5582 - loss: 0.4418"
          ]
        },
        {
          "output_type": "stream",
          "name": "stderr",
          "text": [
            "WARNING:absl:You are saving your model as an HDF5 file via `model.save()` or `keras.saving.save_model(model)`. This file format is considered legacy. We recommend using instead the native Keras format, e.g. `model.save('my_model.keras')` or `keras.saving.save_model(model, 'my_model.keras')`. \n"
          ]
        },
        {
          "output_type": "stream",
          "name": "stdout",
          "text": [
            "\b\b\b\b\b\b\b\b\b\b\b\b\b\b\b\b\b\b\b\b\b\b\b\b\b\b\b\b\b\b\b\b\b\b\b\b\b\b\b\b\b\b\b\b\b\b\b\b\b\b\b\b\b\b\b\b\b\b\b\b\b\b\b\b\b\b\b\b\b\b\b\b\b\b\b\b\b\b\b\b\b\b\b\b\b\b\b\b\b\b\b\b\b\b\b\b\b\b\b\b\r\u001b[1m200/200\u001b[0m \u001b[32m━━━━━━━━━━━━━━━━━━━━\u001b[0m\u001b[37m\u001b[0m \u001b[1m291s\u001b[0m 1s/step - accuracy: 0.9986 - dice_coefficient: 0.5583 - loss: 0.4417 - val_accuracy: 0.9987 - val_dice_coefficient: 0.4694 - val_loss: 0.5306\n",
            "Epoch 12/25\n",
            "\u001b[1m200/200\u001b[0m \u001b[32m━━━━━━━━━━━━━━━━━━━━\u001b[0m\u001b[37m\u001b[0m \u001b[1m0s\u001b[0m 1s/step - accuracy: 0.9979 - dice_coefficient: 0.5608 - loss: 0.4392"
          ]
        },
        {
          "output_type": "stream",
          "name": "stderr",
          "text": [
            "WARNING:absl:You are saving your model as an HDF5 file via `model.save()` or `keras.saving.save_model(model)`. This file format is considered legacy. We recommend using instead the native Keras format, e.g. `model.save('my_model.keras')` or `keras.saving.save_model(model, 'my_model.keras')`. \n"
          ]
        },
        {
          "output_type": "stream",
          "name": "stdout",
          "text": [
            "\b\b\b\b\b\b\b\b\b\b\b\b\b\b\b\b\b\b\b\b\b\b\b\b\b\b\b\b\b\b\b\b\b\b\b\b\b\b\b\b\b\b\b\b\b\b\b\b\b\b\b\b\b\b\b\b\b\b\b\b\b\b\b\b\b\b\b\b\b\b\b\b\b\b\b\b\b\b\b\b\b\b\b\b\b\b\b\b\b\b\b\b\b\b\b\b\b\b\b\b\r\u001b[1m200/200\u001b[0m \u001b[32m━━━━━━━━━━━━━━━━━━━━\u001b[0m\u001b[37m\u001b[0m \u001b[1m291s\u001b[0m 1s/step - accuracy: 0.9979 - dice_coefficient: 0.5609 - loss: 0.4391 - val_accuracy: 0.9987 - val_dice_coefficient: 0.4804 - val_loss: 0.5196\n",
            "Epoch 13/25\n",
            "\u001b[1m200/200\u001b[0m \u001b[32m━━━━━━━━━━━━━━━━━━━━\u001b[0m\u001b[37m\u001b[0m \u001b[1m0s\u001b[0m 1s/step - accuracy: 0.9983 - dice_coefficient: 0.6383 - loss: 0.3617"
          ]
        },
        {
          "output_type": "stream",
          "name": "stderr",
          "text": [
            "WARNING:absl:You are saving your model as an HDF5 file via `model.save()` or `keras.saving.save_model(model)`. This file format is considered legacy. We recommend using instead the native Keras format, e.g. `model.save('my_model.keras')` or `keras.saving.save_model(model, 'my_model.keras')`. \n"
          ]
        },
        {
          "output_type": "stream",
          "name": "stdout",
          "text": [
            "\b\b\b\b\b\b\b\b\b\b\b\b\b\b\b\b\b\b\b\b\b\b\b\b\b\b\b\b\b\b\b\b\b\b\b\b\b\b\b\b\b\b\b\b\b\b\b\b\b\b\b\b\b\b\b\b\b\b\b\b\b\b\b\b\b\b\b\b\b\b\b\b\b\b\b\b\b\b\b\b\b\b\b\b\b\b\b\b\b\b\b\b\b\b\b\b\b\b\b\b\r\u001b[1m200/200\u001b[0m \u001b[32m━━━━━━━━━━━━━━━━━━━━\u001b[0m\u001b[37m\u001b[0m \u001b[1m292s\u001b[0m 1s/step - accuracy: 0.9983 - dice_coefficient: 0.6382 - loss: 0.3618 - val_accuracy: 0.9986 - val_dice_coefficient: 0.4953 - val_loss: 0.5047\n",
            "Epoch 14/25\n",
            "\u001b[1m200/200\u001b[0m \u001b[32m━━━━━━━━━━━━━━━━━━━━\u001b[0m\u001b[37m\u001b[0m \u001b[1m0s\u001b[0m 1s/step - accuracy: 0.9979 - dice_coefficient: 0.6588 - loss: 0.3412"
          ]
        },
        {
          "output_type": "stream",
          "name": "stderr",
          "text": [
            "WARNING:absl:You are saving your model as an HDF5 file via `model.save()` or `keras.saving.save_model(model)`. This file format is considered legacy. We recommend using instead the native Keras format, e.g. `model.save('my_model.keras')` or `keras.saving.save_model(model, 'my_model.keras')`. \n"
          ]
        },
        {
          "output_type": "stream",
          "name": "stdout",
          "text": [
            "\b\b\b\b\b\b\b\b\b\b\b\b\b\b\b\b\b\b\b\b\b\b\b\b\b\b\b\b\b\b\b\b\b\b\b\b\b\b\b\b\b\b\b\b\b\b\b\b\b\b\b\b\b\b\b\b\b\b\b\b\b\b\b\b\b\b\b\b\b\b\b\b\b\b\b\b\b\b\b\b\b\b\b\b\b\b\b\b\b\b\b\b\b\b\b\b\b\b\b\b\r\u001b[1m200/200\u001b[0m \u001b[32m━━━━━━━━━━━━━━━━━━━━\u001b[0m\u001b[37m\u001b[0m \u001b[1m287s\u001b[0m 1s/step - accuracy: 0.9979 - dice_coefficient: 0.6587 - loss: 0.3413 - val_accuracy: 0.9988 - val_dice_coefficient: 0.5215 - val_loss: 0.4785\n",
            "Epoch 15/25\n",
            "\u001b[1m200/200\u001b[0m \u001b[32m━━━━━━━━━━━━━━━━━━━━\u001b[0m\u001b[37m\u001b[0m \u001b[1m293s\u001b[0m 1s/step - accuracy: 0.9982 - dice_coefficient: 0.6450 - loss: 0.3550 - val_accuracy: 0.9985 - val_dice_coefficient: 0.4917 - val_loss: 0.5083\n",
            "Epoch 16/25\n",
            "\u001b[1m200/200\u001b[0m \u001b[32m━━━━━━━━━━━━━━━━━━━━\u001b[0m\u001b[37m\u001b[0m \u001b[1m0s\u001b[0m 1s/step - accuracy: 0.9983 - dice_coefficient: 0.6585 - loss: 0.3415"
          ]
        },
        {
          "output_type": "stream",
          "name": "stderr",
          "text": [
            "WARNING:absl:You are saving your model as an HDF5 file via `model.save()` or `keras.saving.save_model(model)`. This file format is considered legacy. We recommend using instead the native Keras format, e.g. `model.save('my_model.keras')` or `keras.saving.save_model(model, 'my_model.keras')`. \n"
          ]
        },
        {
          "output_type": "stream",
          "name": "stdout",
          "text": [
            "\b\b\b\b\b\b\b\b\b\b\b\b\b\b\b\b\b\b\b\b\b\b\b\b\b\b\b\b\b\b\b\b\b\b\b\b\b\b\b\b\b\b\b\b\b\b\b\b\b\b\b\b\b\b\b\b\b\b\b\b\b\b\b\b\b\b\b\b\b\b\b\b\b\b\b\b\b\b\b\b\b\b\b\b\b\b\b\b\b\b\b\b\b\b\b\b\b\b\b\b\r\u001b[1m200/200\u001b[0m \u001b[32m━━━━━━━━━━━━━━━━━━━━\u001b[0m\u001b[37m\u001b[0m \u001b[1m296s\u001b[0m 1s/step - accuracy: 0.9983 - dice_coefficient: 0.6585 - loss: 0.3415 - val_accuracy: 0.9988 - val_dice_coefficient: 0.5219 - val_loss: 0.4781\n",
            "Epoch 17/25\n",
            "\u001b[1m200/200\u001b[0m \u001b[32m━━━━━━━━━━━━━━━━━━━━\u001b[0m\u001b[37m\u001b[0m \u001b[1m0s\u001b[0m 1s/step - accuracy: 0.9987 - dice_coefficient: 0.6312 - loss: 0.3688"
          ]
        },
        {
          "output_type": "stream",
          "name": "stderr",
          "text": [
            "WARNING:absl:You are saving your model as an HDF5 file via `model.save()` or `keras.saving.save_model(model)`. This file format is considered legacy. We recommend using instead the native Keras format, e.g. `model.save('my_model.keras')` or `keras.saving.save_model(model, 'my_model.keras')`. \n"
          ]
        },
        {
          "output_type": "stream",
          "name": "stdout",
          "text": [
            "\b\b\b\b\b\b\b\b\b\b\b\b\b\b\b\b\b\b\b\b\b\b\b\b\b\b\b\b\b\b\b\b\b\b\b\b\b\b\b\b\b\b\b\b\b\b\b\b\b\b\b\b\b\b\b\b\b\b\b\b\b\b\b\b\b\b\b\b\b\b\b\b\b\b\b\b\b\b\b\b\b\b\b\b\b\b\b\b\b\b\b\b\b\b\b\b\b\b\b\b\r\u001b[1m200/200\u001b[0m \u001b[32m━━━━━━━━━━━━━━━━━━━━\u001b[0m\u001b[37m\u001b[0m \u001b[1m292s\u001b[0m 1s/step - accuracy: 0.9987 - dice_coefficient: 0.6313 - loss: 0.3687 - val_accuracy: 0.9987 - val_dice_coefficient: 0.5447 - val_loss: 0.4553\n",
            "Epoch 18/25\n",
            "\u001b[1m200/200\u001b[0m \u001b[32m━━━━━━━━━━━━━━━━━━━━\u001b[0m\u001b[37m\u001b[0m \u001b[1m0s\u001b[0m 1s/step - accuracy: 0.9985 - dice_coefficient: 0.7130 - loss: 0.2870"
          ]
        },
        {
          "output_type": "stream",
          "name": "stderr",
          "text": [
            "WARNING:absl:You are saving your model as an HDF5 file via `model.save()` or `keras.saving.save_model(model)`. This file format is considered legacy. We recommend using instead the native Keras format, e.g. `model.save('my_model.keras')` or `keras.saving.save_model(model, 'my_model.keras')`. \n"
          ]
        },
        {
          "output_type": "stream",
          "name": "stdout",
          "text": [
            "\b\b\b\b\b\b\b\b\b\b\b\b\b\b\b\b\b\b\b\b\b\b\b\b\b\b\b\b\b\b\b\b\b\b\b\b\b\b\b\b\b\b\b\b\b\b\b\b\b\b\b\b\b\b\b\b\b\b\b\b\b\b\b\b\b\b\b\b\b\b\b\b\b\b\b\b\b\b\b\b\b\b\b\b\b\b\b\b\b\b\b\b\b\b\b\b\b\b\b\b\r\u001b[1m200/200\u001b[0m \u001b[32m━━━━━━━━━━━━━━━━━━━━\u001b[0m\u001b[37m\u001b[0m \u001b[1m289s\u001b[0m 1s/step - accuracy: 0.9985 - dice_coefficient: 0.7129 - loss: 0.2871 - val_accuracy: 0.9988 - val_dice_coefficient: 0.5502 - val_loss: 0.4498\n",
            "Epoch 19/25\n",
            "\u001b[1m200/200\u001b[0m \u001b[32m━━━━━━━━━━━━━━━━━━━━\u001b[0m\u001b[37m\u001b[0m \u001b[1m291s\u001b[0m 1s/step - accuracy: 0.9986 - dice_coefficient: 0.6869 - loss: 0.3131 - val_accuracy: 0.9986 - val_dice_coefficient: 0.5265 - val_loss: 0.4735\n",
            "Epoch 20/25\n",
            "\u001b[1m200/200\u001b[0m \u001b[32m━━━━━━━━━━━━━━━━━━━━\u001b[0m\u001b[37m\u001b[0m \u001b[1m286s\u001b[0m 1s/step - accuracy: 0.9975 - dice_coefficient: 0.7126 - loss: 0.2874 - val_accuracy: 0.9979 - val_dice_coefficient: 0.4668 - val_loss: 0.5332\n",
            "Epoch 21/25\n",
            "\u001b[1m200/200\u001b[0m \u001b[32m━━━━━━━━━━━━━━━━━━━━\u001b[0m\u001b[37m\u001b[0m \u001b[1m292s\u001b[0m 1s/step - accuracy: 0.9981 - dice_coefficient: 0.6979 - loss: 0.3021 - val_accuracy: 0.9981 - val_dice_coefficient: 0.4786 - val_loss: 0.5214\n",
            "Epoch 22/25\n",
            "\u001b[1m200/200\u001b[0m \u001b[32m━━━━━━━━━━━━━━━━━━━━\u001b[0m\u001b[37m\u001b[0m \u001b[1m0s\u001b[0m 1s/step - accuracy: 0.9986 - dice_coefficient: 0.6966 - loss: 0.3034"
          ]
        },
        {
          "output_type": "stream",
          "name": "stderr",
          "text": [
            "WARNING:absl:You are saving your model as an HDF5 file via `model.save()` or `keras.saving.save_model(model)`. This file format is considered legacy. We recommend using instead the native Keras format, e.g. `model.save('my_model.keras')` or `keras.saving.save_model(model, 'my_model.keras')`. \n"
          ]
        },
        {
          "output_type": "stream",
          "name": "stdout",
          "text": [
            "\b\b\b\b\b\b\b\b\b\b\b\b\b\b\b\b\b\b\b\b\b\b\b\b\b\b\b\b\b\b\b\b\b\b\b\b\b\b\b\b\b\b\b\b\b\b\b\b\b\b\b\b\b\b\b\b\b\b\b\b\b\b\b\b\b\b\b\b\b\b\b\b\b\b\b\b\b\b\b\b\b\b\b\b\b\b\b\b\b\b\b\b\b\b\b\b\b\b\b\b\r\u001b[1m200/200\u001b[0m \u001b[32m━━━━━━━━━━━━━━━━━━━━\u001b[0m\u001b[37m\u001b[0m \u001b[1m293s\u001b[0m 1s/step - accuracy: 0.9986 - dice_coefficient: 0.6967 - loss: 0.3033 - val_accuracy: 0.9988 - val_dice_coefficient: 0.5704 - val_loss: 0.4296\n",
            "Epoch 23/25\n",
            "\u001b[1m200/200\u001b[0m \u001b[32m━━━━━━━━━━━━━━━━━━━━\u001b[0m\u001b[37m\u001b[0m \u001b[1m0s\u001b[0m 1s/step - accuracy: 0.9985 - dice_coefficient: 0.7145 - loss: 0.2855"
          ]
        },
        {
          "output_type": "stream",
          "name": "stderr",
          "text": [
            "WARNING:absl:You are saving your model as an HDF5 file via `model.save()` or `keras.saving.save_model(model)`. This file format is considered legacy. We recommend using instead the native Keras format, e.g. `model.save('my_model.keras')` or `keras.saving.save_model(model, 'my_model.keras')`. \n"
          ]
        },
        {
          "output_type": "stream",
          "name": "stdout",
          "text": [
            "\b\b\b\b\b\b\b\b\b\b\b\b\b\b\b\b\b\b\b\b\b\b\b\b\b\b\b\b\b\b\b\b\b\b\b\b\b\b\b\b\b\b\b\b\b\b\b\b\b\b\b\b\b\b\b\b\b\b\b\b\b\b\b\b\b\b\b\b\b\b\b\b\b\b\b\b\b\b\b\b\b\b\b\b\b\b\b\b\b\b\b\b\b\b\b\b\b\b\b\b\r\u001b[1m200/200\u001b[0m \u001b[32m━━━━━━━━━━━━━━━━━━━━\u001b[0m\u001b[37m\u001b[0m \u001b[1m289s\u001b[0m 1s/step - accuracy: 0.9985 - dice_coefficient: 0.7146 - loss: 0.2854 - val_accuracy: 0.9988 - val_dice_coefficient: 0.5850 - val_loss: 0.4150\n",
            "Epoch 24/25\n",
            "\u001b[1m200/200\u001b[0m \u001b[32m━━━━━━━━━━━━━━━━━━━━\u001b[0m\u001b[37m\u001b[0m \u001b[1m0s\u001b[0m 1s/step - accuracy: 0.9984 - dice_coefficient: 0.7111 - loss: 0.2889"
          ]
        },
        {
          "output_type": "stream",
          "name": "stderr",
          "text": [
            "WARNING:absl:You are saving your model as an HDF5 file via `model.save()` or `keras.saving.save_model(model)`. This file format is considered legacy. We recommend using instead the native Keras format, e.g. `model.save('my_model.keras')` or `keras.saving.save_model(model, 'my_model.keras')`. \n"
          ]
        },
        {
          "output_type": "stream",
          "name": "stdout",
          "text": [
            "\b\b\b\b\b\b\b\b\b\b\b\b\b\b\b\b\b\b\b\b\b\b\b\b\b\b\b\b\b\b\b\b\b\b\b\b\b\b\b\b\b\b\b\b\b\b\b\b\b\b\b\b\b\b\b\b\b\b\b\b\b\b\b\b\b\b\b\b\b\b\b\b\b\b\b\b\b\b\b\b\b\b\b\b\b\b\b\b\b\b\b\b\b\b\b\b\b\b\b\b\r\u001b[1m200/200\u001b[0m \u001b[32m━━━━━━━━━━━━━━━━━━━━\u001b[0m\u001b[37m\u001b[0m \u001b[1m291s\u001b[0m 1s/step - accuracy: 0.9984 - dice_coefficient: 0.7111 - loss: 0.2889 - val_accuracy: 0.9989 - val_dice_coefficient: 0.6000 - val_loss: 0.4000\n",
            "Epoch 25/25\n",
            "\u001b[1m200/200\u001b[0m \u001b[32m━━━━━━━━━━━━━━━━━━━━\u001b[0m\u001b[37m\u001b[0m \u001b[1m289s\u001b[0m 1s/step - accuracy: 0.9987 - dice_coefficient: 0.7028 - loss: 0.2972 - val_accuracy: 0.9968 - val_dice_coefficient: 0.4516 - val_loss: 0.5484\n",
            "Finished training Model 3. Best weights saved to /content/drive/MyDrive/isles22_resunet_model_2.h5\n",
            "\n",
            "Ensemble training complete.\n",
            "\n",
            "--- Evaluating Ensemble Performance ---\n"
          ]
        },
        {
          "output_type": "display_data",
          "data": {
            "text/plain": [
              "Evaluating Validation Set:   0%|          | 0/50 [00:00<?, ?it/s]"
            ],
            "application/vnd.jupyter.widget-view+json": {
              "version_major": 2,
              "version_minor": 0,
              "model_id": "ee628f5ffd214758b1785aa69fa10a42"
            }
          },
          "metadata": {}
        },
        {
          "output_type": "stream",
          "name": "stderr",
          "text": [
            "/usr/local/lib/python3.11/dist-packages/keras/src/models/functional.py:237: UserWarning: The structure of `inputs` doesn't match the expected structure.\n",
            "Expected: ['keras_tensor_212']\n",
            "Received: inputs=Tensor(shape=(1, 96, 96, 96, 3))\n",
            "  warnings.warn(msg)\n",
            "/usr/local/lib/python3.11/dist-packages/keras/src/models/functional.py:237: UserWarning: The structure of `inputs` doesn't match the expected structure.\n",
            "Expected: ['keras_tensor_265']\n",
            "Received: inputs=Tensor(shape=(1, 96, 96, 96, 3))\n",
            "  warnings.warn(msg)\n",
            "/usr/local/lib/python3.11/dist-packages/keras/src/models/functional.py:237: UserWarning: The structure of `inputs` doesn't match the expected structure.\n",
            "Expected: ['keras_tensor_318']\n",
            "Received: inputs=Tensor(shape=(1, 96, 96, 96, 3))\n",
            "  warnings.warn(msg)\n"
          ]
        },
        {
          "output_type": "stream",
          "name": "stdout",
          "text": [
            "\n",
            "--- Ensemble Evaluation Results ---\n",
            "Average Voxel-wise Dice Coefficient: 0.6253\n",
            "Average Lesion-wise F1 Score: 0.6364\n"
          ]
        }
      ],
      "source": [
        "# Step 1: Mount Google Drive and Install Libraries\n",
        "\n",
        "from google.colab import drive\n",
        "drive.mount('/content/drive')\n",
        "\n",
        "# Install required libraries quietly\n",
        "!pip install -q nibabel tensorflow scikit-image\n",
        "\n",
        "print(\"Libraries installed and Drive mounted successfully.\")\n",
        "\n",
        "# Step 2: Import Libraries and Define Configuration\n",
        "# -----------------------------------------------------------------\n",
        "# Here, we import all necessary modules and define a configuration class\n",
        "# to manage file paths and model hyperparameters centrally. This makes\n",
        "# the script easier to read and modify.\n",
        "\n",
        "import os\n",
        "import glob\n",
        "import random\n",
        "import numpy as np\n",
        "import nibabel as nib\n",
        "import tensorflow as tf\n",
        "from tensorflow.keras import layers, models, optimizers\n",
        "from tensorflow.keras import backend as K\n",
        "from scipy.ndimage import zoom, label, rotate\n",
        "from skimage.transform import resize\n",
        "from sklearn.model_selection import train_test_split\n",
        "from tqdm.notebook import tqdm\n",
        "\n",
        "# Configuration (lower computational cost and RAM usage).\n",
        "class Config:\n",
        "    # --- Path Configuration ---\n",
        "    BASE_PATH = \"/content/drive/MyDrive/Python Files/ISLES-2022/ISLES-2022\"\n",
        "    DERIVATIVES_PATH = os.path.join(BASE_PATH, \"derivatives\")\n",
        "\n",
        "    # --- Data & Model Parameters ---\n",
        "    IMG_SIZE = (96, 96, 96) # Using smaller dimensions to save memory\n",
        "    VOXEL_SPACING = (2.0, 2.0, 2.0) # Resampling to a consistent, lower resolution\n",
        "    N_CHANNELS = 3 # DWI, ADC, FLAIR\n",
        "    N_MODELS = 3 # Number of models in the ensemble\n",
        "\n",
        "    # --- Training Hyperparameters ---\n",
        "    BATCH_SIZE = 1 # Use a batch size of 1 to minimize RAM usage\n",
        "    LEARNING_RATE = 1e-4\n",
        "    EPOCHS = 25 # Increased epochs for better convergence\n",
        "\n",
        "CONFIG = Config()\n",
        "print(\"Configuration loaded. Image size set to:\", CONFIG.IMG_SIZE)\n",
        "\n",
        "\n",
        "# Step 3: Data Loading and Preprocessing Functions\n",
        "def get_file_paths():\n",
        "    \"\"\"\n",
        "    Scans the dataset directory and returns sorted lists of image and mask file paths.\n",
        "    This function is robust to the BIDS-like structure of the ISLES 2022 dataset.\n",
        "    \"\"\"\n",
        "    patient_folders = sorted(glob.glob(os.path.join(CONFIG.BASE_PATH, \"sub-strokecase*\")))\n",
        "    image_paths, mask_paths = [], []\n",
        "\n",
        "    print(f\"Found {len(patient_folders)} patient folders.\")\n",
        "    for patient_folder in patient_folders:\n",
        "        patient_id = os.path.basename(patient_folder)\n",
        "        session_folder = glob.glob(os.path.join(patient_folder, \"ses-*\"))\n",
        "\n",
        "        if not session_folder:\n",
        "            print(f\"Warning: No session folder found for {patient_id}. Skipping.\")\n",
        "            continue\n",
        "        session_folder = session_folder[0] # Assume one session per patient\n",
        "        session_id = os.path.basename(session_folder)\n",
        "\n",
        "        try:\n",
        "            # Construct file paths based on the ISLES 2022 naming convention\n",
        "            dwi_path = glob.glob(os.path.join(session_folder, \"dwi\", f\"{patient_id}_{session_id}_dwi.nii.gz\"))[0]\n",
        "            adc_path = glob.glob(os.path.join(session_folder, \"dwi\", f\"{patient_id}_{session_id}_adc.nii.gz\"))[0]\n",
        "            flair_path = glob.glob(os.path.join(session_folder, \"anat\", f\"{patient_id}_{session_id}_FLAIR.nii.gz\"))[0]\n",
        "            mask_path = glob.glob(os.path.join(CONFIG.DERIVATIVES_PATH, patient_id, session_id, f\"{patient_id}_{session_id}_msk.nii.gz\"))[0]\n",
        "\n",
        "            image_paths.append((dwi_path, adc_path, flair_path))\n",
        "            mask_paths.append(mask_path)\n",
        "        except IndexError:\n",
        "            print(f\"Warning: Skipping {patient_id} due to missing image or mask files.\")\n",
        "\n",
        "    return image_paths, mask_paths\n",
        "\n",
        "def resample_volume(data, header, new_spacing=CONFIG.VOXEL_SPACING):\n",
        "    \"\"\"Resamples a 3D volume to a new voxel spacing.\"\"\"\n",
        "    original_spacing = header.get_zooms()[:3]\n",
        "    resize_factor = [orig / new for orig, new in zip(original_spacing, new_spacing)]\n",
        "    return zoom(data, resize_factor, order=1, mode='nearest')\n",
        "\n",
        "def preprocess_volume(volume_data):\n",
        "    \"\"\"Normalizes the volume using Z-score normalization.\"\"\"\n",
        "    mean, std = np.mean(volume_data), np.std(volume_data)\n",
        "    return (volume_data - mean) / std if std > 0 else volume_data\n",
        "\n",
        "def load_case(image_paths, mask_path):\n",
        "    \"\"\"\n",
        "    Loads, preprocesses, and stacks the three MRI modalities (DWI, ADC, FLAIR)\n",
        "    and their corresponding lesion mask for a single case.\n",
        "    \"\"\"\n",
        "    dwi_path, adc_path, flair_path = image_paths\n",
        "    modalities = []\n",
        "\n",
        "    # Load and process reference modality (DWI)\n",
        "    dwi_nii = nib.load(dwi_path)\n",
        "    dwi_data = resample_volume(dwi_nii.get_fdata(), dwi_nii.header)\n",
        "    dwi_data = preprocess_volume(dwi_data)\n",
        "    modalities.append(dwi_data)\n",
        "    reference_shape = dwi_data.shape\n",
        "\n",
        "    # Load and process other modalities, aligning to reference shape\n",
        "    for path in [adc_path, flair_path]:\n",
        "        img_nii = nib.load(path)\n",
        "        img_data = resample_volume(img_nii.get_fdata(), img_nii.header)\n",
        "        img_data = preprocess_volume(img_data)\n",
        "        if img_data.shape != reference_shape:\n",
        "            img_data = resize(img_data, reference_shape, order=1, preserve_range=True, anti_aliasing=False)\n",
        "        modalities.append(img_data)\n",
        "\n",
        "    stacked_images = np.stack(modalities, axis=-1)\n",
        "\n",
        "    # Load and process mask, aligning to reference shape\n",
        "    mask_nii = nib.load(mask_path)\n",
        "    mask_data = resample_volume(mask_nii.get_fdata(), mask_nii.header)\n",
        "    if mask_data.shape != reference_shape:\n",
        "        mask_data = resize(mask_data, reference_shape, order=0, preserve_range=True, anti_aliasing=False)\n",
        "\n",
        "    mask_data = (mask_data > 0).astype(np.float32)\n",
        "    return stacked_images, np.expand_dims(mask_data, axis=-1)\n",
        "\n",
        "print(\"Data helper functions defined.\")\n",
        "\n",
        "\n",
        "# Step 4: ResU-Net Model and 3D-Aware Augmentation\n",
        "\n",
        "def resnet_block(input_tensor, num_filters):\n",
        "    \"\"\"A residual block with two 3x3 convolutions and a skip connection.\"\"\"\n",
        "    x = layers.Conv3D(num_filters, (3, 3, 3), padding='same')(input_tensor)\n",
        "    x = layers.BatchNormalization()(x)\n",
        "    x = layers.Activation('relu')(x)\n",
        "\n",
        "    x = layers.Conv3D(num_filters, (3, 3, 3), padding='same')(x)\n",
        "    x = layers.BatchNormalization()(x)\n",
        "\n",
        "    # Shortcut connection to match dimensions if necessary\n",
        "    shortcut = layers.Conv3D(num_filters, (1, 1, 1), padding='same')(input_tensor)\n",
        "    shortcut = layers.BatchNormalization()(shortcut)\n",
        "\n",
        "    x = layers.Add()([x, shortcut])\n",
        "    x = layers.Activation('relu')(x)\n",
        "    return x\n",
        "\n",
        "def build_resunet(input_shape):\n",
        "    \"\"\"Builds the ResU-Net model.\"\"\"\n",
        "    inputs = layers.Input(shape=input_shape)\n",
        "\n",
        "    # Encoder Path\n",
        "    c1 = resnet_block(inputs, 16)\n",
        "    p1 = layers.MaxPooling3D((2, 2, 2))(c1)\n",
        "    c2 = resnet_block(p1, 32)\n",
        "    p2 = layers.MaxPooling3D((2, 2, 2))(c2)\n",
        "\n",
        "    # Bottleneck\n",
        "    c3 = resnet_block(p2, 64)\n",
        "\n",
        "    # Decoder Path\n",
        "    u2 = layers.Conv3DTranspose(32, (2, 2, 2), strides=(2, 2, 2), padding='same')(c3)\n",
        "    u2 = layers.concatenate([u2, c2])\n",
        "    c4 = resnet_block(u2, 32)\n",
        "\n",
        "    u1 = layers.Conv3DTranspose(16, (2, 2, 2), strides=(2, 2, 2), padding='same')(c4)\n",
        "    u1 = layers.concatenate([u1, c1])\n",
        "    c5 = resnet_block(u1, 16)\n",
        "\n",
        "    outputs = layers.Conv3D(1, (1, 1, 1), activation='sigmoid')(c5)\n",
        "\n",
        "    return models.Model(inputs=[inputs], outputs=[outputs])\n",
        "\n",
        "\n",
        "def augment_3d(image, mask):\n",
        "    \"\"\"Applies 3D data augmentation to an image and its mask.\"\"\"\n",
        "    # Random flip across the sagittal plane (left-right)\n",
        "    if random.random() > 0.5:\n",
        "        image = np.flip(image, axis=0)\n",
        "        mask = np.flip(mask, axis=0)\n",
        "\n",
        "    # Random rotation around the Z-axis (axial plane)\n",
        "    if random.random() > 0.5:\n",
        "        angle = random.uniform(-15, 15)\n",
        "        image = rotate(image, angle, axes=(0, 1), reshape=False, order=1, mode='constant', cval=0)\n",
        "        mask = rotate(mask, angle, axes=(0, 1), reshape=False, order=0, mode='constant', cval=0)\n",
        "\n",
        "    # Add Gaussian noise\n",
        "    if random.random() > 0.3:\n",
        "        image += np.random.normal(0, 0.1, image.shape)\n",
        "\n",
        "    return image, mask\n",
        "\n",
        "print(\"ResU-Net model and 3D Augmentation functions defined.\")\n",
        "\n",
        "\n",
        "# Step 5: Loss, Metrics, and Data Generator\n",
        "\n",
        "def dice_coefficient(y_true, y_pred, smooth=1e-6):\n",
        "    \"\"\"Calculates the Dice Similarity Coefficient (DSC).\"\"\"\n",
        "    y_true_f = K.flatten(y_true)\n",
        "    y_pred_f = K.flatten(y_pred)\n",
        "    intersection = K.sum(y_true_f * y_pred_f)\n",
        "    return (2. * intersection + smooth) / (K.sum(y_true_f) + K.sum(y_pred_f) + smooth)\n",
        "\n",
        "def dice_loss(y_true, y_pred):\n",
        "    \"\"\"Calculates Dice loss from the Dice coefficient.\"\"\"\n",
        "    return 1 - dice_coefficient(y_true, y_pred)\n",
        "\n",
        "def crop_or_pad_volume(volume, target_shape):\n",
        "    \"\"\"\n",
        "    Crops or pads a 3D volume to a target shape.\n",
        "    This ensures all inputs to the network are of a consistent size.\n",
        "    \"\"\"\n",
        "    d, h, w = volume.shape[:3]\n",
        "    td, th, tw = target_shape\n",
        "\n",
        "    # Cropping\n",
        "    d_start = max(0, (d - td) // 2)\n",
        "    h_start = max(0, (h - th) // 2)\n",
        "    w_start = max(0, (w - tw) // 2)\n",
        "    cropped_volume = volume[d_start:d_start + td, h_start:h_start + th, w_start:w_start + tw, :]\n",
        "\n",
        "    # Padding\n",
        "    cd, ch, cw = cropped_volume.shape[:3]\n",
        "    pad_dims = [\n",
        "        ((td - cd) // 2, td - cd - ((td - cd) // 2)),\n",
        "        ((th - ch) // 2, th - ch - ((th - ch) // 2)),\n",
        "        ((tw - cw) // 2, tw - cw - ((tw - cw) // 2)),\n",
        "        (0,0) # No padding for the channel dimension\n",
        "    ]\n",
        "    final_volume = np.pad(cropped_volume, pad_width=pad_dims, mode='constant')\n",
        "    return final_volume\n",
        "\n",
        "class DataGenerator(tf.keras.utils.Sequence):\n",
        "    \"\"\"Generates data for Keras.\"\"\"\n",
        "    def __init__(self, image_paths, mask_paths, batch_size, augment=False):\n",
        "        self.image_paths = image_paths\n",
        "        self.mask_paths = mask_paths\n",
        "        self.batch_size = batch_size\n",
        "        self.augment = augment\n",
        "        self.on_epoch_end()\n",
        "\n",
        "    def __len__(self):\n",
        "        return int(np.floor(len(self.image_paths) / self.batch_size))\n",
        "\n",
        "    def __getitem__(self, index):\n",
        "        indices = self.indices[index*self.batch_size:(index+1)*self.batch_size]\n",
        "        batch_images, batch_masks = [], []\n",
        "\n",
        "        for i in indices:\n",
        "            img, mask = load_case(self.image_paths[i], self.mask_paths[i])\n",
        "            if self.augment:\n",
        "                img, mask = augment_3d(img, mask)\n",
        "\n",
        "            img = crop_or_pad_volume(img, CONFIG.IMG_SIZE)\n",
        "            mask = crop_or_pad_volume(mask, CONFIG.IMG_SIZE)\n",
        "\n",
        "            batch_images.append(img)\n",
        "            batch_masks.append(mask)\n",
        "\n",
        "        return np.array(batch_images), np.array(batch_masks)\n",
        "\n",
        "    def on_epoch_end(self):\n",
        "        self.indices = np.arange(len(self.image_paths))\n",
        "        np.random.shuffle(self.indices)\n",
        "\n",
        "print(\"Loss, metrics, and data generator are ready.\")\n",
        "\n",
        "\n",
        "# Step 6: Training the Ensemble of Models\n",
        "\n",
        "print(\"Loading file paths...\")\n",
        "all_image_paths, all_mask_paths = get_file_paths()\n",
        "\n",
        "if not all_image_paths:\n",
        "    print(\"\\nERROR: No data files were found. Please check the `BASE_PATH` in Step 2.\")\n",
        "    print(\"Expected path:\", CONFIG.BASE_PATH)\n",
        "else:\n",
        "    # Split data into training and validation sets\n",
        "    train_img_paths, val_img_paths, train_mask_paths, val_mask_paths = train_test_split(\n",
        "        all_image_paths, all_mask_paths, test_size=0.2, random_state=42\n",
        "    )\n",
        "\n",
        "    # Create data generators\n",
        "    train_generator = DataGenerator(train_img_paths, train_mask_paths, CONFIG.BATCH_SIZE, augment=True)\n",
        "    val_generator = DataGenerator(val_img_paths, val_mask_paths, CONFIG.BATCH_SIZE, augment=False)\n",
        "\n",
        "    print(f\"Data prepared: {len(train_img_paths)} training, {len(val_img_paths)} validation cases.\")\n",
        "\n",
        "    input_shape = CONFIG.IMG_SIZE + (CONFIG.N_CHANNELS,)\n",
        "\n",
        "    for i in range(CONFIG.N_MODELS):\n",
        "        print(f\"\\n--- Training Model {i+1}/{CONFIG.N_MODELS} ---\")\n",
        "        model = build_resunet(input_shape)\n",
        "        model.compile(\n",
        "            optimizer=optimizers.Adam(learning_rate=CONFIG.LEARNING_RATE),\n",
        "            loss=dice_loss,\n",
        "            metrics=[dice_coefficient, 'accuracy']\n",
        "        )\n",
        "\n",
        "        model_checkpoint_path = f\"/content/drive/MyDrive/isles22_resunet_model_{i}.h5\"\n",
        "        checkpoint = tf.keras.callbacks.ModelCheckpoint(\n",
        "            model_checkpoint_path, monitor='val_dice_coefficient', save_best_only=True, mode='max'\n",
        "        )\n",
        "        early_stopping = tf.keras.callbacks.EarlyStopping(\n",
        "            monitor='val_dice_coefficient', patience=10, mode='max', restore_best_weights=True\n",
        "        )\n",
        "\n",
        "        history = model.fit(\n",
        "            train_generator,\n",
        "            validation_data=val_generator,\n",
        "            epochs=CONFIG.EPOCHS,\n",
        "            callbacks=[checkpoint, early_stopping],\n",
        "        )\n",
        "            print(f\"Finished training Model {i+1}. Best weights saved to {model_checkpoint_path}\")\n",
        "\n",
        "    print(\"\\nEnsemble training complete.\")\n",
        "\n",
        "# Step 7: Evaluation of the Ensemble\n",
        "\n",
        "def lesion_wise_f1(y_true, y_pred):\n",
        "    \"\"\"Calculates the lesion-wise F1 score.\"\"\"\n",
        "    true_labels, num_true = label(y_true > 0.5)\n",
        "    pred_labels, num_pred = label(y_pred > 0.5)\n",
        "\n",
        "    if num_true == 0 and num_pred == 0: return 1.0\n",
        "    if num_true == 0 or num_pred == 0: return 0.0\n",
        "\n",
        "    true_positives = 0\n",
        "    for i in range(1, num_true + 1):\n",
        "        if np.sum(y_pred[true_labels == i]) > 0:\n",
        "            true_positives += 1\n",
        "\n",
        "    precision = true_positives / num_pred if num_pred > 0 else 0\n",
        "    recall = true_positives / num_true if num_true > 0 else 0\n",
        "\n",
        "    return 2 * (precision * recall) / (precision + recall) if (precision + recall) > 0 else 0\n",
        "\n",
        "def evaluate_ensemble(model_paths, val_generator):\n",
        "    \"\"\"Evaluates the performance of the model ensemble.\"\"\"\n",
        "    input_shape = CONFIG.IMG_SIZE + (CONFIG.N_CHANNELS,)\n",
        "    ensemble_models = []\n",
        "    for path in model_paths:\n",
        "        model = build_resunet(input_shape)\n",
        "        model.load_weights(path)\n",
        "        ensemble_models.append(model)\n",
        "\n",
        "    all_dice_scores, all_f1_scores = [], []\n",
        "    print(\"\\n--- Evaluating Ensemble Performance ---\")\n",
        "\n",
        "    for i in tqdm(range(len(val_generator)), desc=\"Evaluating Validation Set\"):\n",
        "        X_val, y_val = val_generator[i]\n",
        "        for j in range(X_val.shape[0]):\n",
        "            image, mask_true = np.expand_dims(X_val[j], axis=0), y_val[j]\n",
        "\n",
        "            # Get predictions from all models in the ensemble\n",
        "            predictions = [model.predict(image, verbose=0)[0] for model in ensemble_models]\n",
        "\n",
        "            # Average the predictions and apply a 0.5 threshold\n",
        "            ensembled_pred_mask = (np.mean(predictions, axis=0) > 0.5).astype(np.uint8)\n",
        "\n",
        "            dice_score = dice_coefficient(mask_true.astype(np.float32), ensembled_pred_mask.astype(np.float32)).numpy()\n",
        "            f1_score = lesion_wise_f1(mask_true.squeeze(), ensembled_pred_mask.squeeze())\n",
        "\n",
        "            all_dice_scores.append(dice_score)\n",
        "            all_f1_scores.append(f1_score)\n",
        "\n",
        "    avg_dice = np.mean(all_dice_scores)\n",
        "    avg_f1 = np.mean(all_f1_scores)\n",
        "\n",
        "    print(f\"\\n--- Ensemble Evaluation Results ---\")\n",
        "    print(f\"Average Voxel-wise Dice Coefficient: {avg_dice:.4f}\")\n",
        "    print(f\"Average Lesion-wise F1 Score: {avg_f1:.4f}\")\n",
        "\n",
        "# --- Run Evaluation ---\n",
        "if 'val_generator' in locals():\n",
        "    model_paths = [f\"/content/drive/MyDrive/isles22_resunet_model_{i}.h5\" for i in range(CONFIG.N_MODELS)]\n",
        "    evaluate_ensemble(model_paths, val_generator)\n",
        "else:\n",
        "    print(\"\\nSkipping evaluation because training data was not loaded.\")"
      ]
    },
    {
      "cell_type": "code",
      "source": [],
      "metadata": {
        "id": "a2rMojTKgE0M"
      },
      "execution_count": null,
      "outputs": []
    }
  ],
  "metadata": {
    "accelerator": "GPU",
    "colab": {
      "gpuType": "T4",
      "provenance": [],
      "include_colab_link": true
    },
    "kernelspec": {
      "display_name": "Python 3",
      "name": "python3"
    },
    "language_info": {
      "name": "python"
    }
  },
  "nbformat": 4,
  "nbformat_minor": 0
}